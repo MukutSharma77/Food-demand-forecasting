{
 "cells": [
  {
   "cell_type": "code",
   "execution_count": 1,
   "id": "caad0ae4",
   "metadata": {},
   "outputs": [],
   "source": [
    "#Importing essential libraries\n",
    "import pandas as pd\n",
    "import numpy as np\n",
    "import matplotlib.pyplot as plt\n",
    "import seaborn as sns\n",
    "\n",
    "from sklearn.model_selection import train_test_split\n",
    "from sklearn.linear_model import LinearRegression\n",
    "from sklearn.metrics import mean_absolute_error\n",
    "from sklearn.metrics import mean_squared_error\n",
    "from sklearn.metrics import r2_score\n",
    "from sklearn.feature_selection import mutual_info_regression\n",
    "from sklearn.neighbors import KNeighborsRegressor\n",
    "from sklearn.ensemble import RandomForestRegressor\n",
    "from xgboost import XGBRegressor\n",
    "from sklearn.ensemble import GradientBoostingRegressor\n",
    "from sklearn.model_selection import RandomizedSearchCV\n",
    "#Get all columns\n",
    "# pd.set_option('display.max_columns')\n",
    "pd.set_option('display.max_columns', None)"
   ]
  },
  {
   "cell_type": "code",
   "execution_count": 2,
   "id": "2a2d955e",
   "metadata": {},
   "outputs": [],
   "source": [
    "#Reading a train set\n",
    "train=pd.read_csv('train.csv')"
   ]
  },
  {
   "cell_type": "code",
   "execution_count": 3,
   "id": "d863c43c",
   "metadata": {},
   "outputs": [
    {
     "data": {
      "text/html": [
       "<div>\n",
       "<style scoped>\n",
       "    .dataframe tbody tr th:only-of-type {\n",
       "        vertical-align: middle;\n",
       "    }\n",
       "\n",
       "    .dataframe tbody tr th {\n",
       "        vertical-align: top;\n",
       "    }\n",
       "\n",
       "    .dataframe thead th {\n",
       "        text-align: right;\n",
       "    }\n",
       "</style>\n",
       "<table border=\"1\" class=\"dataframe\">\n",
       "  <thead>\n",
       "    <tr style=\"text-align: right;\">\n",
       "      <th></th>\n",
       "      <th>id</th>\n",
       "      <th>week</th>\n",
       "      <th>center_id</th>\n",
       "      <th>meal_id</th>\n",
       "      <th>checkout_price</th>\n",
       "      <th>base_price</th>\n",
       "      <th>emailer_for_promotion</th>\n",
       "      <th>homepage_featured</th>\n",
       "      <th>num_orders</th>\n",
       "    </tr>\n",
       "  </thead>\n",
       "  <tbody>\n",
       "    <tr>\n",
       "      <th>0</th>\n",
       "      <td>1379560</td>\n",
       "      <td>1</td>\n",
       "      <td>55</td>\n",
       "      <td>1885</td>\n",
       "      <td>136.83</td>\n",
       "      <td>152.29</td>\n",
       "      <td>0</td>\n",
       "      <td>0</td>\n",
       "      <td>177</td>\n",
       "    </tr>\n",
       "    <tr>\n",
       "      <th>1</th>\n",
       "      <td>1466964</td>\n",
       "      <td>1</td>\n",
       "      <td>55</td>\n",
       "      <td>1993</td>\n",
       "      <td>136.83</td>\n",
       "      <td>135.83</td>\n",
       "      <td>0</td>\n",
       "      <td>0</td>\n",
       "      <td>270</td>\n",
       "    </tr>\n",
       "    <tr>\n",
       "      <th>2</th>\n",
       "      <td>1346989</td>\n",
       "      <td>1</td>\n",
       "      <td>55</td>\n",
       "      <td>2539</td>\n",
       "      <td>134.86</td>\n",
       "      <td>135.86</td>\n",
       "      <td>0</td>\n",
       "      <td>0</td>\n",
       "      <td>189</td>\n",
       "    </tr>\n",
       "    <tr>\n",
       "      <th>3</th>\n",
       "      <td>1338232</td>\n",
       "      <td>1</td>\n",
       "      <td>55</td>\n",
       "      <td>2139</td>\n",
       "      <td>339.50</td>\n",
       "      <td>437.53</td>\n",
       "      <td>0</td>\n",
       "      <td>0</td>\n",
       "      <td>54</td>\n",
       "    </tr>\n",
       "    <tr>\n",
       "      <th>4</th>\n",
       "      <td>1448490</td>\n",
       "      <td>1</td>\n",
       "      <td>55</td>\n",
       "      <td>2631</td>\n",
       "      <td>243.50</td>\n",
       "      <td>242.50</td>\n",
       "      <td>0</td>\n",
       "      <td>0</td>\n",
       "      <td>40</td>\n",
       "    </tr>\n",
       "  </tbody>\n",
       "</table>\n",
       "</div>"
      ],
      "text/plain": [
       "        id  week  center_id  meal_id  checkout_price  base_price  \\\n",
       "0  1379560     1         55     1885          136.83      152.29   \n",
       "1  1466964     1         55     1993          136.83      135.83   \n",
       "2  1346989     1         55     2539          134.86      135.86   \n",
       "3  1338232     1         55     2139          339.50      437.53   \n",
       "4  1448490     1         55     2631          243.50      242.50   \n",
       "\n",
       "   emailer_for_promotion  homepage_featured  num_orders  \n",
       "0                      0                  0         177  \n",
       "1                      0                  0         270  \n",
       "2                      0                  0         189  \n",
       "3                      0                  0          54  \n",
       "4                      0                  0          40  "
      ]
     },
     "execution_count": 3,
     "metadata": {},
     "output_type": "execute_result"
    }
   ],
   "source": [
    "#Top 5 Record of a train set\n",
    "train.head()"
   ]
  },
  {
   "cell_type": "code",
   "execution_count": 4,
   "id": "fd3a86e0",
   "metadata": {},
   "outputs": [],
   "source": [
    "#Reading a test set\n",
    "test=pd.read_csv('test_QoiMO9B.csv')"
   ]
  },
  {
   "cell_type": "code",
   "execution_count": 5,
   "id": "97a81a03",
   "metadata": {},
   "outputs": [
    {
     "data": {
      "text/html": [
       "<div>\n",
       "<style scoped>\n",
       "    .dataframe tbody tr th:only-of-type {\n",
       "        vertical-align: middle;\n",
       "    }\n",
       "\n",
       "    .dataframe tbody tr th {\n",
       "        vertical-align: top;\n",
       "    }\n",
       "\n",
       "    .dataframe thead th {\n",
       "        text-align: right;\n",
       "    }\n",
       "</style>\n",
       "<table border=\"1\" class=\"dataframe\">\n",
       "  <thead>\n",
       "    <tr style=\"text-align: right;\">\n",
       "      <th></th>\n",
       "      <th>id</th>\n",
       "      <th>week</th>\n",
       "      <th>center_id</th>\n",
       "      <th>meal_id</th>\n",
       "      <th>checkout_price</th>\n",
       "      <th>base_price</th>\n",
       "      <th>emailer_for_promotion</th>\n",
       "      <th>homepage_featured</th>\n",
       "    </tr>\n",
       "  </thead>\n",
       "  <tbody>\n",
       "    <tr>\n",
       "      <th>0</th>\n",
       "      <td>1028232</td>\n",
       "      <td>146</td>\n",
       "      <td>55</td>\n",
       "      <td>1885</td>\n",
       "      <td>158.11</td>\n",
       "      <td>159.11</td>\n",
       "      <td>0</td>\n",
       "      <td>0</td>\n",
       "    </tr>\n",
       "    <tr>\n",
       "      <th>1</th>\n",
       "      <td>1127204</td>\n",
       "      <td>146</td>\n",
       "      <td>55</td>\n",
       "      <td>1993</td>\n",
       "      <td>160.11</td>\n",
       "      <td>159.11</td>\n",
       "      <td>0</td>\n",
       "      <td>0</td>\n",
       "    </tr>\n",
       "    <tr>\n",
       "      <th>2</th>\n",
       "      <td>1212707</td>\n",
       "      <td>146</td>\n",
       "      <td>55</td>\n",
       "      <td>2539</td>\n",
       "      <td>157.14</td>\n",
       "      <td>159.14</td>\n",
       "      <td>0</td>\n",
       "      <td>0</td>\n",
       "    </tr>\n",
       "    <tr>\n",
       "      <th>3</th>\n",
       "      <td>1082698</td>\n",
       "      <td>146</td>\n",
       "      <td>55</td>\n",
       "      <td>2631</td>\n",
       "      <td>162.02</td>\n",
       "      <td>162.02</td>\n",
       "      <td>0</td>\n",
       "      <td>0</td>\n",
       "    </tr>\n",
       "    <tr>\n",
       "      <th>4</th>\n",
       "      <td>1400926</td>\n",
       "      <td>146</td>\n",
       "      <td>55</td>\n",
       "      <td>1248</td>\n",
       "      <td>163.93</td>\n",
       "      <td>163.93</td>\n",
       "      <td>0</td>\n",
       "      <td>0</td>\n",
       "    </tr>\n",
       "  </tbody>\n",
       "</table>\n",
       "</div>"
      ],
      "text/plain": [
       "        id  week  center_id  meal_id  checkout_price  base_price  \\\n",
       "0  1028232   146         55     1885          158.11      159.11   \n",
       "1  1127204   146         55     1993          160.11      159.11   \n",
       "2  1212707   146         55     2539          157.14      159.14   \n",
       "3  1082698   146         55     2631          162.02      162.02   \n",
       "4  1400926   146         55     1248          163.93      163.93   \n",
       "\n",
       "   emailer_for_promotion  homepage_featured  \n",
       "0                      0                  0  \n",
       "1                      0                  0  \n",
       "2                      0                  0  \n",
       "3                      0                  0  \n",
       "4                      0                  0  "
      ]
     },
     "execution_count": 5,
     "metadata": {},
     "output_type": "execute_result"
    }
   ],
   "source": [
    "#Top 5 Record of a test set\n",
    "test.head()"
   ]
  },
  {
   "cell_type": "code",
   "execution_count": 6,
   "id": "7a34189a",
   "metadata": {},
   "outputs": [],
   "source": [
    "#reading meal_info.csv \n",
    "meal_info=pd.read_csv('meal_info.csv')"
   ]
  },
  {
   "cell_type": "code",
   "execution_count": 7,
   "id": "116985d3",
   "metadata": {},
   "outputs": [
    {
     "data": {
      "text/html": [
       "<div>\n",
       "<style scoped>\n",
       "    .dataframe tbody tr th:only-of-type {\n",
       "        vertical-align: middle;\n",
       "    }\n",
       "\n",
       "    .dataframe tbody tr th {\n",
       "        vertical-align: top;\n",
       "    }\n",
       "\n",
       "    .dataframe thead th {\n",
       "        text-align: right;\n",
       "    }\n",
       "</style>\n",
       "<table border=\"1\" class=\"dataframe\">\n",
       "  <thead>\n",
       "    <tr style=\"text-align: right;\">\n",
       "      <th></th>\n",
       "      <th>meal_id</th>\n",
       "      <th>category</th>\n",
       "      <th>cuisine</th>\n",
       "    </tr>\n",
       "  </thead>\n",
       "  <tbody>\n",
       "    <tr>\n",
       "      <th>0</th>\n",
       "      <td>1885</td>\n",
       "      <td>Beverages</td>\n",
       "      <td>Thai</td>\n",
       "    </tr>\n",
       "    <tr>\n",
       "      <th>1</th>\n",
       "      <td>1993</td>\n",
       "      <td>Beverages</td>\n",
       "      <td>Thai</td>\n",
       "    </tr>\n",
       "    <tr>\n",
       "      <th>2</th>\n",
       "      <td>2539</td>\n",
       "      <td>Beverages</td>\n",
       "      <td>Thai</td>\n",
       "    </tr>\n",
       "    <tr>\n",
       "      <th>3</th>\n",
       "      <td>1248</td>\n",
       "      <td>Beverages</td>\n",
       "      <td>Indian</td>\n",
       "    </tr>\n",
       "    <tr>\n",
       "      <th>4</th>\n",
       "      <td>2631</td>\n",
       "      <td>Beverages</td>\n",
       "      <td>Indian</td>\n",
       "    </tr>\n",
       "  </tbody>\n",
       "</table>\n",
       "</div>"
      ],
      "text/plain": [
       "   meal_id   category cuisine\n",
       "0     1885  Beverages    Thai\n",
       "1     1993  Beverages    Thai\n",
       "2     2539  Beverages    Thai\n",
       "3     1248  Beverages  Indian\n",
       "4     2631  Beverages  Indian"
      ]
     },
     "execution_count": 7,
     "metadata": {},
     "output_type": "execute_result"
    }
   ],
   "source": [
    "#Top 5 element of a meal_info.csv\n",
    "meal_info.head()"
   ]
  },
  {
   "cell_type": "code",
   "execution_count": 8,
   "id": "a60310d4",
   "metadata": {},
   "outputs": [],
   "source": [
    "#Reading fulfilment_center_info.csv\n",
    "center_info=pd.read_csv('fulfilment_center_info.csv')"
   ]
  },
  {
   "cell_type": "code",
   "execution_count": 9,
   "id": "4d660aa6",
   "metadata": {},
   "outputs": [
    {
     "data": {
      "text/html": [
       "<div>\n",
       "<style scoped>\n",
       "    .dataframe tbody tr th:only-of-type {\n",
       "        vertical-align: middle;\n",
       "    }\n",
       "\n",
       "    .dataframe tbody tr th {\n",
       "        vertical-align: top;\n",
       "    }\n",
       "\n",
       "    .dataframe thead th {\n",
       "        text-align: right;\n",
       "    }\n",
       "</style>\n",
       "<table border=\"1\" class=\"dataframe\">\n",
       "  <thead>\n",
       "    <tr style=\"text-align: right;\">\n",
       "      <th></th>\n",
       "      <th>center_id</th>\n",
       "      <th>city_code</th>\n",
       "      <th>region_code</th>\n",
       "      <th>center_type</th>\n",
       "      <th>op_area</th>\n",
       "    </tr>\n",
       "  </thead>\n",
       "  <tbody>\n",
       "    <tr>\n",
       "      <th>0</th>\n",
       "      <td>11</td>\n",
       "      <td>679</td>\n",
       "      <td>56</td>\n",
       "      <td>TYPE_A</td>\n",
       "      <td>3.7</td>\n",
       "    </tr>\n",
       "    <tr>\n",
       "      <th>1</th>\n",
       "      <td>13</td>\n",
       "      <td>590</td>\n",
       "      <td>56</td>\n",
       "      <td>TYPE_B</td>\n",
       "      <td>6.7</td>\n",
       "    </tr>\n",
       "    <tr>\n",
       "      <th>2</th>\n",
       "      <td>124</td>\n",
       "      <td>590</td>\n",
       "      <td>56</td>\n",
       "      <td>TYPE_C</td>\n",
       "      <td>4.0</td>\n",
       "    </tr>\n",
       "    <tr>\n",
       "      <th>3</th>\n",
       "      <td>66</td>\n",
       "      <td>648</td>\n",
       "      <td>34</td>\n",
       "      <td>TYPE_A</td>\n",
       "      <td>4.1</td>\n",
       "    </tr>\n",
       "    <tr>\n",
       "      <th>4</th>\n",
       "      <td>94</td>\n",
       "      <td>632</td>\n",
       "      <td>34</td>\n",
       "      <td>TYPE_C</td>\n",
       "      <td>3.6</td>\n",
       "    </tr>\n",
       "  </tbody>\n",
       "</table>\n",
       "</div>"
      ],
      "text/plain": [
       "   center_id  city_code  region_code center_type  op_area\n",
       "0         11        679           56      TYPE_A      3.7\n",
       "1         13        590           56      TYPE_B      6.7\n",
       "2        124        590           56      TYPE_C      4.0\n",
       "3         66        648           34      TYPE_A      4.1\n",
       "4         94        632           34      TYPE_C      3.6"
      ]
     },
     "execution_count": 9,
     "metadata": {},
     "output_type": "execute_result"
    }
   ],
   "source": [
    "center_info.head()"
   ]
  },
  {
   "cell_type": "code",
   "execution_count": 10,
   "id": "ce3bd6c3",
   "metadata": {},
   "outputs": [],
   "source": [
    "#Merging meal_info  train , test \n",
    "train=pd.merge(train,meal_info,on='meal_id')\n",
    "test=pd.merge(test,meal_info,on='meal_id')"
   ]
  },
  {
   "cell_type": "code",
   "execution_count": 11,
   "id": "50b28e2e",
   "metadata": {},
   "outputs": [],
   "source": [
    "#Merging center_info  train , test \n",
    "train=pd.merge(train,center_info,on='center_id')\n",
    "test=pd.merge(test,center_info,on='center_id')"
   ]
  },
  {
   "cell_type": "code",
   "execution_count": 12,
   "id": "7218f181",
   "metadata": {},
   "outputs": [
    {
     "data": {
      "text/html": [
       "<div>\n",
       "<style scoped>\n",
       "    .dataframe tbody tr th:only-of-type {\n",
       "        vertical-align: middle;\n",
       "    }\n",
       "\n",
       "    .dataframe tbody tr th {\n",
       "        vertical-align: top;\n",
       "    }\n",
       "\n",
       "    .dataframe thead th {\n",
       "        text-align: right;\n",
       "    }\n",
       "</style>\n",
       "<table border=\"1\" class=\"dataframe\">\n",
       "  <thead>\n",
       "    <tr style=\"text-align: right;\">\n",
       "      <th></th>\n",
       "      <th>id</th>\n",
       "      <th>week</th>\n",
       "      <th>center_id</th>\n",
       "      <th>meal_id</th>\n",
       "      <th>checkout_price</th>\n",
       "      <th>base_price</th>\n",
       "      <th>emailer_for_promotion</th>\n",
       "      <th>homepage_featured</th>\n",
       "      <th>num_orders</th>\n",
       "      <th>category</th>\n",
       "      <th>cuisine</th>\n",
       "      <th>city_code</th>\n",
       "      <th>region_code</th>\n",
       "      <th>center_type</th>\n",
       "      <th>op_area</th>\n",
       "    </tr>\n",
       "  </thead>\n",
       "  <tbody>\n",
       "    <tr>\n",
       "      <th>0</th>\n",
       "      <td>1379560</td>\n",
       "      <td>1</td>\n",
       "      <td>55</td>\n",
       "      <td>1885</td>\n",
       "      <td>136.83</td>\n",
       "      <td>152.29</td>\n",
       "      <td>0</td>\n",
       "      <td>0</td>\n",
       "      <td>177</td>\n",
       "      <td>Beverages</td>\n",
       "      <td>Thai</td>\n",
       "      <td>647</td>\n",
       "      <td>56</td>\n",
       "      <td>TYPE_C</td>\n",
       "      <td>2.0</td>\n",
       "    </tr>\n",
       "    <tr>\n",
       "      <th>1</th>\n",
       "      <td>1018704</td>\n",
       "      <td>2</td>\n",
       "      <td>55</td>\n",
       "      <td>1885</td>\n",
       "      <td>135.83</td>\n",
       "      <td>152.29</td>\n",
       "      <td>0</td>\n",
       "      <td>0</td>\n",
       "      <td>323</td>\n",
       "      <td>Beverages</td>\n",
       "      <td>Thai</td>\n",
       "      <td>647</td>\n",
       "      <td>56</td>\n",
       "      <td>TYPE_C</td>\n",
       "      <td>2.0</td>\n",
       "    </tr>\n",
       "    <tr>\n",
       "      <th>2</th>\n",
       "      <td>1196273</td>\n",
       "      <td>3</td>\n",
       "      <td>55</td>\n",
       "      <td>1885</td>\n",
       "      <td>132.92</td>\n",
       "      <td>133.92</td>\n",
       "      <td>0</td>\n",
       "      <td>0</td>\n",
       "      <td>96</td>\n",
       "      <td>Beverages</td>\n",
       "      <td>Thai</td>\n",
       "      <td>647</td>\n",
       "      <td>56</td>\n",
       "      <td>TYPE_C</td>\n",
       "      <td>2.0</td>\n",
       "    </tr>\n",
       "    <tr>\n",
       "      <th>3</th>\n",
       "      <td>1116527</td>\n",
       "      <td>4</td>\n",
       "      <td>55</td>\n",
       "      <td>1885</td>\n",
       "      <td>135.86</td>\n",
       "      <td>134.86</td>\n",
       "      <td>0</td>\n",
       "      <td>0</td>\n",
       "      <td>163</td>\n",
       "      <td>Beverages</td>\n",
       "      <td>Thai</td>\n",
       "      <td>647</td>\n",
       "      <td>56</td>\n",
       "      <td>TYPE_C</td>\n",
       "      <td>2.0</td>\n",
       "    </tr>\n",
       "    <tr>\n",
       "      <th>4</th>\n",
       "      <td>1343872</td>\n",
       "      <td>5</td>\n",
       "      <td>55</td>\n",
       "      <td>1885</td>\n",
       "      <td>146.50</td>\n",
       "      <td>147.50</td>\n",
       "      <td>0</td>\n",
       "      <td>0</td>\n",
       "      <td>215</td>\n",
       "      <td>Beverages</td>\n",
       "      <td>Thai</td>\n",
       "      <td>647</td>\n",
       "      <td>56</td>\n",
       "      <td>TYPE_C</td>\n",
       "      <td>2.0</td>\n",
       "    </tr>\n",
       "  </tbody>\n",
       "</table>\n",
       "</div>"
      ],
      "text/plain": [
       "        id  week  center_id  meal_id  checkout_price  base_price  \\\n",
       "0  1379560     1         55     1885          136.83      152.29   \n",
       "1  1018704     2         55     1885          135.83      152.29   \n",
       "2  1196273     3         55     1885          132.92      133.92   \n",
       "3  1116527     4         55     1885          135.86      134.86   \n",
       "4  1343872     5         55     1885          146.50      147.50   \n",
       "\n",
       "   emailer_for_promotion  homepage_featured  num_orders   category cuisine  \\\n",
       "0                      0                  0         177  Beverages    Thai   \n",
       "1                      0                  0         323  Beverages    Thai   \n",
       "2                      0                  0          96  Beverages    Thai   \n",
       "3                      0                  0         163  Beverages    Thai   \n",
       "4                      0                  0         215  Beverages    Thai   \n",
       "\n",
       "   city_code  region_code center_type  op_area  \n",
       "0        647           56      TYPE_C      2.0  \n",
       "1        647           56      TYPE_C      2.0  \n",
       "2        647           56      TYPE_C      2.0  \n",
       "3        647           56      TYPE_C      2.0  \n",
       "4        647           56      TYPE_C      2.0  "
      ]
     },
     "execution_count": 12,
     "metadata": {},
     "output_type": "execute_result"
    }
   ],
   "source": [
    "train.head()"
   ]
  },
  {
   "cell_type": "code",
   "execution_count": 13,
   "id": "00b7f116",
   "metadata": {},
   "outputs": [
    {
     "data": {
      "text/html": [
       "<div>\n",
       "<style scoped>\n",
       "    .dataframe tbody tr th:only-of-type {\n",
       "        vertical-align: middle;\n",
       "    }\n",
       "\n",
       "    .dataframe tbody tr th {\n",
       "        vertical-align: top;\n",
       "    }\n",
       "\n",
       "    .dataframe thead th {\n",
       "        text-align: right;\n",
       "    }\n",
       "</style>\n",
       "<table border=\"1\" class=\"dataframe\">\n",
       "  <thead>\n",
       "    <tr style=\"text-align: right;\">\n",
       "      <th></th>\n",
       "      <th>id</th>\n",
       "      <th>week</th>\n",
       "      <th>center_id</th>\n",
       "      <th>meal_id</th>\n",
       "      <th>checkout_price</th>\n",
       "      <th>base_price</th>\n",
       "      <th>emailer_for_promotion</th>\n",
       "      <th>homepage_featured</th>\n",
       "      <th>category</th>\n",
       "      <th>cuisine</th>\n",
       "      <th>city_code</th>\n",
       "      <th>region_code</th>\n",
       "      <th>center_type</th>\n",
       "      <th>op_area</th>\n",
       "    </tr>\n",
       "  </thead>\n",
       "  <tbody>\n",
       "    <tr>\n",
       "      <th>0</th>\n",
       "      <td>1028232</td>\n",
       "      <td>146</td>\n",
       "      <td>55</td>\n",
       "      <td>1885</td>\n",
       "      <td>158.11</td>\n",
       "      <td>159.11</td>\n",
       "      <td>0</td>\n",
       "      <td>0</td>\n",
       "      <td>Beverages</td>\n",
       "      <td>Thai</td>\n",
       "      <td>647</td>\n",
       "      <td>56</td>\n",
       "      <td>TYPE_C</td>\n",
       "      <td>2.0</td>\n",
       "    </tr>\n",
       "    <tr>\n",
       "      <th>1</th>\n",
       "      <td>1262649</td>\n",
       "      <td>147</td>\n",
       "      <td>55</td>\n",
       "      <td>1885</td>\n",
       "      <td>159.11</td>\n",
       "      <td>159.11</td>\n",
       "      <td>0</td>\n",
       "      <td>0</td>\n",
       "      <td>Beverages</td>\n",
       "      <td>Thai</td>\n",
       "      <td>647</td>\n",
       "      <td>56</td>\n",
       "      <td>TYPE_C</td>\n",
       "      <td>2.0</td>\n",
       "    </tr>\n",
       "    <tr>\n",
       "      <th>2</th>\n",
       "      <td>1453211</td>\n",
       "      <td>149</td>\n",
       "      <td>55</td>\n",
       "      <td>1885</td>\n",
       "      <td>157.14</td>\n",
       "      <td>158.14</td>\n",
       "      <td>0</td>\n",
       "      <td>0</td>\n",
       "      <td>Beverages</td>\n",
       "      <td>Thai</td>\n",
       "      <td>647</td>\n",
       "      <td>56</td>\n",
       "      <td>TYPE_C</td>\n",
       "      <td>2.0</td>\n",
       "    </tr>\n",
       "    <tr>\n",
       "      <th>3</th>\n",
       "      <td>1262599</td>\n",
       "      <td>150</td>\n",
       "      <td>55</td>\n",
       "      <td>1885</td>\n",
       "      <td>159.14</td>\n",
       "      <td>157.14</td>\n",
       "      <td>0</td>\n",
       "      <td>0</td>\n",
       "      <td>Beverages</td>\n",
       "      <td>Thai</td>\n",
       "      <td>647</td>\n",
       "      <td>56</td>\n",
       "      <td>TYPE_C</td>\n",
       "      <td>2.0</td>\n",
       "    </tr>\n",
       "    <tr>\n",
       "      <th>4</th>\n",
       "      <td>1495848</td>\n",
       "      <td>151</td>\n",
       "      <td>55</td>\n",
       "      <td>1885</td>\n",
       "      <td>160.11</td>\n",
       "      <td>159.11</td>\n",
       "      <td>0</td>\n",
       "      <td>0</td>\n",
       "      <td>Beverages</td>\n",
       "      <td>Thai</td>\n",
       "      <td>647</td>\n",
       "      <td>56</td>\n",
       "      <td>TYPE_C</td>\n",
       "      <td>2.0</td>\n",
       "    </tr>\n",
       "  </tbody>\n",
       "</table>\n",
       "</div>"
      ],
      "text/plain": [
       "        id  week  center_id  meal_id  checkout_price  base_price  \\\n",
       "0  1028232   146         55     1885          158.11      159.11   \n",
       "1  1262649   147         55     1885          159.11      159.11   \n",
       "2  1453211   149         55     1885          157.14      158.14   \n",
       "3  1262599   150         55     1885          159.14      157.14   \n",
       "4  1495848   151         55     1885          160.11      159.11   \n",
       "\n",
       "   emailer_for_promotion  homepage_featured   category cuisine  city_code  \\\n",
       "0                      0                  0  Beverages    Thai        647   \n",
       "1                      0                  0  Beverages    Thai        647   \n",
       "2                      0                  0  Beverages    Thai        647   \n",
       "3                      0                  0  Beverages    Thai        647   \n",
       "4                      0                  0  Beverages    Thai        647   \n",
       "\n",
       "   region_code center_type  op_area  \n",
       "0           56      TYPE_C      2.0  \n",
       "1           56      TYPE_C      2.0  \n",
       "2           56      TYPE_C      2.0  \n",
       "3           56      TYPE_C      2.0  \n",
       "4           56      TYPE_C      2.0  "
      ]
     },
     "execution_count": 13,
     "metadata": {},
     "output_type": "execute_result"
    }
   ],
   "source": [
    "test.head()"
   ]
  },
  {
   "cell_type": "code",
   "execution_count": 14,
   "id": "a121259d",
   "metadata": {},
   "outputs": [
    {
     "data": {
      "text/plain": [
       "(456548, 15)"
      ]
     },
     "execution_count": 14,
     "metadata": {},
     "output_type": "execute_result"
    }
   ],
   "source": [
    "#Shape of the dataset\n",
    "train.shape"
   ]
  },
  {
   "cell_type": "code",
   "execution_count": 15,
   "id": "3ff55e5d",
   "metadata": {},
   "outputs": [
    {
     "data": {
      "text/html": [
       "<div>\n",
       "<style scoped>\n",
       "    .dataframe tbody tr th:only-of-type {\n",
       "        vertical-align: middle;\n",
       "    }\n",
       "\n",
       "    .dataframe tbody tr th {\n",
       "        vertical-align: top;\n",
       "    }\n",
       "\n",
       "    .dataframe thead th {\n",
       "        text-align: right;\n",
       "    }\n",
       "</style>\n",
       "<table border=\"1\" class=\"dataframe\">\n",
       "  <thead>\n",
       "    <tr style=\"text-align: right;\">\n",
       "      <th></th>\n",
       "      <th>id</th>\n",
       "      <th>week</th>\n",
       "      <th>center_id</th>\n",
       "      <th>meal_id</th>\n",
       "      <th>checkout_price</th>\n",
       "      <th>base_price</th>\n",
       "      <th>emailer_for_promotion</th>\n",
       "      <th>homepage_featured</th>\n",
       "      <th>num_orders</th>\n",
       "      <th>city_code</th>\n",
       "      <th>region_code</th>\n",
       "      <th>op_area</th>\n",
       "    </tr>\n",
       "  </thead>\n",
       "  <tbody>\n",
       "    <tr>\n",
       "      <th>count</th>\n",
       "      <td>4.565480e+05</td>\n",
       "      <td>456548.000000</td>\n",
       "      <td>456548.000000</td>\n",
       "      <td>456548.000000</td>\n",
       "      <td>456548.000000</td>\n",
       "      <td>456548.000000</td>\n",
       "      <td>456548.000000</td>\n",
       "      <td>456548.00000</td>\n",
       "      <td>456548.000000</td>\n",
       "      <td>456548.000000</td>\n",
       "      <td>456548.000000</td>\n",
       "      <td>456548.000000</td>\n",
       "    </tr>\n",
       "    <tr>\n",
       "      <th>mean</th>\n",
       "      <td>1.250096e+06</td>\n",
       "      <td>74.768771</td>\n",
       "      <td>82.105796</td>\n",
       "      <td>2024.337458</td>\n",
       "      <td>332.238933</td>\n",
       "      <td>354.156627</td>\n",
       "      <td>0.081152</td>\n",
       "      <td>0.10920</td>\n",
       "      <td>261.872760</td>\n",
       "      <td>601.553399</td>\n",
       "      <td>56.614566</td>\n",
       "      <td>4.083590</td>\n",
       "    </tr>\n",
       "    <tr>\n",
       "      <th>std</th>\n",
       "      <td>1.443548e+05</td>\n",
       "      <td>41.524956</td>\n",
       "      <td>45.975046</td>\n",
       "      <td>547.420920</td>\n",
       "      <td>152.939723</td>\n",
       "      <td>160.715914</td>\n",
       "      <td>0.273069</td>\n",
       "      <td>0.31189</td>\n",
       "      <td>395.922798</td>\n",
       "      <td>66.195914</td>\n",
       "      <td>17.641306</td>\n",
       "      <td>1.091686</td>\n",
       "    </tr>\n",
       "    <tr>\n",
       "      <th>min</th>\n",
       "      <td>1.000000e+06</td>\n",
       "      <td>1.000000</td>\n",
       "      <td>10.000000</td>\n",
       "      <td>1062.000000</td>\n",
       "      <td>2.970000</td>\n",
       "      <td>55.350000</td>\n",
       "      <td>0.000000</td>\n",
       "      <td>0.00000</td>\n",
       "      <td>13.000000</td>\n",
       "      <td>456.000000</td>\n",
       "      <td>23.000000</td>\n",
       "      <td>0.900000</td>\n",
       "    </tr>\n",
       "    <tr>\n",
       "      <th>25%</th>\n",
       "      <td>1.124999e+06</td>\n",
       "      <td>39.000000</td>\n",
       "      <td>43.000000</td>\n",
       "      <td>1558.000000</td>\n",
       "      <td>228.950000</td>\n",
       "      <td>243.500000</td>\n",
       "      <td>0.000000</td>\n",
       "      <td>0.00000</td>\n",
       "      <td>54.000000</td>\n",
       "      <td>553.000000</td>\n",
       "      <td>34.000000</td>\n",
       "      <td>3.600000</td>\n",
       "    </tr>\n",
       "    <tr>\n",
       "      <th>50%</th>\n",
       "      <td>1.250184e+06</td>\n",
       "      <td>76.000000</td>\n",
       "      <td>76.000000</td>\n",
       "      <td>1993.000000</td>\n",
       "      <td>296.820000</td>\n",
       "      <td>310.460000</td>\n",
       "      <td>0.000000</td>\n",
       "      <td>0.00000</td>\n",
       "      <td>136.000000</td>\n",
       "      <td>596.000000</td>\n",
       "      <td>56.000000</td>\n",
       "      <td>4.000000</td>\n",
       "    </tr>\n",
       "    <tr>\n",
       "      <th>75%</th>\n",
       "      <td>1.375140e+06</td>\n",
       "      <td>111.000000</td>\n",
       "      <td>110.000000</td>\n",
       "      <td>2539.000000</td>\n",
       "      <td>445.230000</td>\n",
       "      <td>458.870000</td>\n",
       "      <td>0.000000</td>\n",
       "      <td>0.00000</td>\n",
       "      <td>324.000000</td>\n",
       "      <td>651.000000</td>\n",
       "      <td>77.000000</td>\n",
       "      <td>4.500000</td>\n",
       "    </tr>\n",
       "    <tr>\n",
       "      <th>max</th>\n",
       "      <td>1.499999e+06</td>\n",
       "      <td>145.000000</td>\n",
       "      <td>186.000000</td>\n",
       "      <td>2956.000000</td>\n",
       "      <td>866.270000</td>\n",
       "      <td>866.270000</td>\n",
       "      <td>1.000000</td>\n",
       "      <td>1.00000</td>\n",
       "      <td>24299.000000</td>\n",
       "      <td>713.000000</td>\n",
       "      <td>93.000000</td>\n",
       "      <td>7.000000</td>\n",
       "    </tr>\n",
       "  </tbody>\n",
       "</table>\n",
       "</div>"
      ],
      "text/plain": [
       "                 id           week      center_id        meal_id  \\\n",
       "count  4.565480e+05  456548.000000  456548.000000  456548.000000   \n",
       "mean   1.250096e+06      74.768771      82.105796    2024.337458   \n",
       "std    1.443548e+05      41.524956      45.975046     547.420920   \n",
       "min    1.000000e+06       1.000000      10.000000    1062.000000   \n",
       "25%    1.124999e+06      39.000000      43.000000    1558.000000   \n",
       "50%    1.250184e+06      76.000000      76.000000    1993.000000   \n",
       "75%    1.375140e+06     111.000000     110.000000    2539.000000   \n",
       "max    1.499999e+06     145.000000     186.000000    2956.000000   \n",
       "\n",
       "       checkout_price     base_price  emailer_for_promotion  \\\n",
       "count   456548.000000  456548.000000          456548.000000   \n",
       "mean       332.238933     354.156627               0.081152   \n",
       "std        152.939723     160.715914               0.273069   \n",
       "min          2.970000      55.350000               0.000000   \n",
       "25%        228.950000     243.500000               0.000000   \n",
       "50%        296.820000     310.460000               0.000000   \n",
       "75%        445.230000     458.870000               0.000000   \n",
       "max        866.270000     866.270000               1.000000   \n",
       "\n",
       "       homepage_featured     num_orders      city_code    region_code  \\\n",
       "count       456548.00000  456548.000000  456548.000000  456548.000000   \n",
       "mean             0.10920     261.872760     601.553399      56.614566   \n",
       "std              0.31189     395.922798      66.195914      17.641306   \n",
       "min              0.00000      13.000000     456.000000      23.000000   \n",
       "25%              0.00000      54.000000     553.000000      34.000000   \n",
       "50%              0.00000     136.000000     596.000000      56.000000   \n",
       "75%              0.00000     324.000000     651.000000      77.000000   \n",
       "max              1.00000   24299.000000     713.000000      93.000000   \n",
       "\n",
       "             op_area  \n",
       "count  456548.000000  \n",
       "mean        4.083590  \n",
       "std         1.091686  \n",
       "min         0.900000  \n",
       "25%         3.600000  \n",
       "50%         4.000000  \n",
       "75%         4.500000  \n",
       "max         7.000000  "
      ]
     },
     "execution_count": 15,
     "metadata": {},
     "output_type": "execute_result"
    }
   ],
   "source": [
    "#describing the training set\n",
    "train.describe()"
   ]
  },
  {
   "cell_type": "code",
   "execution_count": 16,
   "id": "adcba221",
   "metadata": {},
   "outputs": [
    {
     "data": {
      "text/plain": [
       "Index(['id', 'week', 'center_id', 'meal_id', 'checkout_price', 'base_price',\n",
       "       'emailer_for_promotion', 'homepage_featured', 'num_orders', 'category',\n",
       "       'cuisine', 'city_code', 'region_code', 'center_type', 'op_area'],\n",
       "      dtype='object')"
      ]
     },
     "execution_count": 16,
     "metadata": {},
     "output_type": "execute_result"
    }
   ],
   "source": [
    "#All the feature's in dataset\n",
    "train.columns"
   ]
  },
  {
   "cell_type": "code",
   "execution_count": 17,
   "id": "8063eff4",
   "metadata": {},
   "outputs": [
    {
     "name": "stdout",
     "output_type": "stream",
     "text": [
      "Numerical feature in a dataset : \n",
      "\t id\n",
      "\t week\n",
      "\t center_id\n",
      "\t meal_id\n",
      "\t checkout_price\n",
      "\t base_price\n",
      "\t emailer_for_promotion\n",
      "\t homepage_featured\n",
      "\t num_orders\n",
      "\t city_code\n",
      "\t region_code\n",
      "\t op_area\n"
     ]
    }
   ],
   "source": [
    "#Numerical feature in a training set\n",
    "numerical_feature=[feature for feature in train.columns if train[feature].dtypes!='O']\n",
    "print(\"Numerical feature in a dataset : \")\n",
    "for feature in numerical_feature:\n",
    "    print(\"\\t\",feature)"
   ]
  },
  {
   "cell_type": "code",
   "execution_count": 18,
   "id": "8bae5847",
   "metadata": {},
   "outputs": [
    {
     "name": "stdout",
     "output_type": "stream",
     "text": [
      "Categorical feature in a dataset : \n",
      "\t category\n",
      "\t cuisine\n",
      "\t center_type\n"
     ]
    }
   ],
   "source": [
    "#Categorical feature in a training set\n",
    "cat_feature=[feature for feature in train.columns if train[feature].dtypes=='O']\n",
    "print(\"Categorical feature in a dataset : \")\n",
    "for feature in cat_feature:\n",
    "    print(\"\\t\",feature)"
   ]
  },
  {
   "cell_type": "code",
   "execution_count": 19,
   "id": "fda3dd54",
   "metadata": {},
   "outputs": [
    {
     "data": {
      "text/html": [
       "<div>\n",
       "<style scoped>\n",
       "    .dataframe tbody tr th:only-of-type {\n",
       "        vertical-align: middle;\n",
       "    }\n",
       "\n",
       "    .dataframe tbody tr th {\n",
       "        vertical-align: top;\n",
       "    }\n",
       "\n",
       "    .dataframe thead th {\n",
       "        text-align: right;\n",
       "    }\n",
       "</style>\n",
       "<table border=\"1\" class=\"dataframe\">\n",
       "  <thead>\n",
       "    <tr style=\"text-align: right;\">\n",
       "      <th></th>\n",
       "      <th>category</th>\n",
       "      <th>cuisine</th>\n",
       "      <th>center_type</th>\n",
       "    </tr>\n",
       "  </thead>\n",
       "  <tbody>\n",
       "    <tr>\n",
       "      <th>count</th>\n",
       "      <td>456548</td>\n",
       "      <td>456548</td>\n",
       "      <td>456548</td>\n",
       "    </tr>\n",
       "    <tr>\n",
       "      <th>unique</th>\n",
       "      <td>14</td>\n",
       "      <td>4</td>\n",
       "      <td>3</td>\n",
       "    </tr>\n",
       "    <tr>\n",
       "      <th>top</th>\n",
       "      <td>Beverages</td>\n",
       "      <td>Italian</td>\n",
       "      <td>TYPE_A</td>\n",
       "    </tr>\n",
       "    <tr>\n",
       "      <th>freq</th>\n",
       "      <td>127890</td>\n",
       "      <td>122925</td>\n",
       "      <td>262881</td>\n",
       "    </tr>\n",
       "  </tbody>\n",
       "</table>\n",
       "</div>"
      ],
      "text/plain": [
       "         category  cuisine center_type\n",
       "count      456548   456548      456548\n",
       "unique         14        4           3\n",
       "top     Beverages  Italian      TYPE_A\n",
       "freq       127890   122925      262881"
      ]
     },
     "execution_count": 19,
     "metadata": {},
     "output_type": "execute_result"
    }
   ],
   "source": [
    "#Describing the categorical feature \n",
    "train[cat_feature].describe()"
   ]
  },
  {
   "cell_type": "code",
   "execution_count": 20,
   "id": "6f142383",
   "metadata": {},
   "outputs": [
    {
     "data": {
      "text/plain": [
       "id                       0\n",
       "week                     0\n",
       "center_id                0\n",
       "meal_id                  0\n",
       "checkout_price           0\n",
       "base_price               0\n",
       "emailer_for_promotion    0\n",
       "homepage_featured        0\n",
       "num_orders               0\n",
       "category                 0\n",
       "cuisine                  0\n",
       "city_code                0\n",
       "region_code              0\n",
       "center_type              0\n",
       "op_area                  0\n",
       "dtype: int64"
      ]
     },
     "execution_count": 20,
     "metadata": {},
     "output_type": "execute_result"
    }
   ],
   "source": [
    "#Checking for nan values in train set\n",
    "train.isnull().sum()"
   ]
  },
  {
   "cell_type": "code",
   "execution_count": 21,
   "id": "02f7a95e",
   "metadata": {},
   "outputs": [
    {
     "data": {
      "text/plain": [
       "id                       0\n",
       "week                     0\n",
       "center_id                0\n",
       "meal_id                  0\n",
       "checkout_price           0\n",
       "base_price               0\n",
       "emailer_for_promotion    0\n",
       "homepage_featured        0\n",
       "category                 0\n",
       "cuisine                  0\n",
       "city_code                0\n",
       "region_code              0\n",
       "center_type              0\n",
       "op_area                  0\n",
       "dtype: int64"
      ]
     },
     "execution_count": 21,
     "metadata": {},
     "output_type": "execute_result"
    }
   ],
   "source": [
    "#Checking for nan values in test set\n",
    "test.isnull().sum()"
   ]
  },
  {
   "cell_type": "code",
   "execution_count": 22,
   "id": "3bc7d6eb",
   "metadata": {},
   "outputs": [
    {
     "data": {
      "text/html": [
       "<div>\n",
       "<style scoped>\n",
       "    .dataframe tbody tr th:only-of-type {\n",
       "        vertical-align: middle;\n",
       "    }\n",
       "\n",
       "    .dataframe tbody tr th {\n",
       "        vertical-align: top;\n",
       "    }\n",
       "\n",
       "    .dataframe thead th {\n",
       "        text-align: right;\n",
       "    }\n",
       "</style>\n",
       "<table border=\"1\" class=\"dataframe\">\n",
       "  <thead>\n",
       "    <tr style=\"text-align: right;\">\n",
       "      <th></th>\n",
       "      <th>id</th>\n",
       "      <th>week</th>\n",
       "      <th>center_id</th>\n",
       "      <th>meal_id</th>\n",
       "      <th>checkout_price</th>\n",
       "      <th>base_price</th>\n",
       "      <th>emailer_for_promotion</th>\n",
       "      <th>homepage_featured</th>\n",
       "      <th>num_orders</th>\n",
       "      <th>city_code</th>\n",
       "      <th>region_code</th>\n",
       "      <th>op_area</th>\n",
       "    </tr>\n",
       "  </thead>\n",
       "  <tbody>\n",
       "    <tr>\n",
       "      <th>id</th>\n",
       "      <td>1.000000</td>\n",
       "      <td>0.002225</td>\n",
       "      <td>0.002641</td>\n",
       "      <td>0.000488</td>\n",
       "      <td>0.001941</td>\n",
       "      <td>0.002909</td>\n",
       "      <td>0.002001</td>\n",
       "      <td>0.003111</td>\n",
       "      <td>0.000702</td>\n",
       "      <td>-0.000387</td>\n",
       "      <td>-0.000648</td>\n",
       "      <td>-0.000090</td>\n",
       "    </tr>\n",
       "    <tr>\n",
       "      <th>week</th>\n",
       "      <td>0.002225</td>\n",
       "      <td>1.000000</td>\n",
       "      <td>-0.003450</td>\n",
       "      <td>0.019814</td>\n",
       "      <td>0.026581</td>\n",
       "      <td>0.028614</td>\n",
       "      <td>-0.000841</td>\n",
       "      <td>-0.008263</td>\n",
       "      <td>-0.017210</td>\n",
       "      <td>0.000405</td>\n",
       "      <td>0.004600</td>\n",
       "      <td>0.001550</td>\n",
       "    </tr>\n",
       "    <tr>\n",
       "      <th>center_id</th>\n",
       "      <td>0.002641</td>\n",
       "      <td>-0.003450</td>\n",
       "      <td>1.000000</td>\n",
       "      <td>0.009893</td>\n",
       "      <td>0.001348</td>\n",
       "      <td>0.000604</td>\n",
       "      <td>0.013658</td>\n",
       "      <td>-0.005043</td>\n",
       "      <td>-0.053035</td>\n",
       "      <td>0.061078</td>\n",
       "      <td>-0.003426</td>\n",
       "      <td>-0.111869</td>\n",
       "    </tr>\n",
       "    <tr>\n",
       "      <th>meal_id</th>\n",
       "      <td>0.000488</td>\n",
       "      <td>0.019814</td>\n",
       "      <td>0.009893</td>\n",
       "      <td>1.000000</td>\n",
       "      <td>0.010748</td>\n",
       "      <td>0.002605</td>\n",
       "      <td>0.013402</td>\n",
       "      <td>0.016354</td>\n",
       "      <td>0.010597</td>\n",
       "      <td>-0.003198</td>\n",
       "      <td>-0.001662</td>\n",
       "      <td>-0.001546</td>\n",
       "    </tr>\n",
       "    <tr>\n",
       "      <th>checkout_price</th>\n",
       "      <td>0.001941</td>\n",
       "      <td>0.026581</td>\n",
       "      <td>0.001348</td>\n",
       "      <td>0.010748</td>\n",
       "      <td>1.000000</td>\n",
       "      <td>0.953389</td>\n",
       "      <td>0.004818</td>\n",
       "      <td>-0.057184</td>\n",
       "      <td>-0.282108</td>\n",
       "      <td>-0.004805</td>\n",
       "      <td>-0.003648</td>\n",
       "      <td>0.021569</td>\n",
       "    </tr>\n",
       "    <tr>\n",
       "      <th>base_price</th>\n",
       "      <td>0.002909</td>\n",
       "      <td>0.028614</td>\n",
       "      <td>0.000604</td>\n",
       "      <td>0.002605</td>\n",
       "      <td>0.953389</td>\n",
       "      <td>1.000000</td>\n",
       "      <td>0.171173</td>\n",
       "      <td>0.057156</td>\n",
       "      <td>-0.222306</td>\n",
       "      <td>-0.002054</td>\n",
       "      <td>-0.001934</td>\n",
       "      <td>0.018031</td>\n",
       "    </tr>\n",
       "    <tr>\n",
       "      <th>emailer_for_promotion</th>\n",
       "      <td>0.002001</td>\n",
       "      <td>-0.000841</td>\n",
       "      <td>0.013658</td>\n",
       "      <td>0.013402</td>\n",
       "      <td>0.004818</td>\n",
       "      <td>0.171173</td>\n",
       "      <td>1.000000</td>\n",
       "      <td>0.390534</td>\n",
       "      <td>0.277147</td>\n",
       "      <td>-0.005234</td>\n",
       "      <td>-0.007462</td>\n",
       "      <td>-0.019462</td>\n",
       "    </tr>\n",
       "    <tr>\n",
       "      <th>homepage_featured</th>\n",
       "      <td>0.003111</td>\n",
       "      <td>-0.008263</td>\n",
       "      <td>-0.005043</td>\n",
       "      <td>0.016354</td>\n",
       "      <td>-0.057184</td>\n",
       "      <td>0.057156</td>\n",
       "      <td>0.390534</td>\n",
       "      <td>1.000000</td>\n",
       "      <td>0.294490</td>\n",
       "      <td>0.008640</td>\n",
       "      <td>0.003605</td>\n",
       "      <td>0.041498</td>\n",
       "    </tr>\n",
       "    <tr>\n",
       "      <th>num_orders</th>\n",
       "      <td>0.000702</td>\n",
       "      <td>-0.017210</td>\n",
       "      <td>-0.053035</td>\n",
       "      <td>0.010597</td>\n",
       "      <td>-0.282108</td>\n",
       "      <td>-0.222306</td>\n",
       "      <td>0.277147</td>\n",
       "      <td>0.294490</td>\n",
       "      <td>1.000000</td>\n",
       "      <td>0.041596</td>\n",
       "      <td>0.029744</td>\n",
       "      <td>0.176976</td>\n",
       "    </tr>\n",
       "    <tr>\n",
       "      <th>city_code</th>\n",
       "      <td>-0.000387</td>\n",
       "      <td>0.000405</td>\n",
       "      <td>0.061078</td>\n",
       "      <td>-0.003198</td>\n",
       "      <td>-0.004805</td>\n",
       "      <td>-0.002054</td>\n",
       "      <td>-0.005234</td>\n",
       "      <td>0.008640</td>\n",
       "      <td>0.041596</td>\n",
       "      <td>1.000000</td>\n",
       "      <td>0.042686</td>\n",
       "      <td>0.131476</td>\n",
       "    </tr>\n",
       "    <tr>\n",
       "      <th>region_code</th>\n",
       "      <td>-0.000648</td>\n",
       "      <td>0.004600</td>\n",
       "      <td>-0.003426</td>\n",
       "      <td>-0.001662</td>\n",
       "      <td>-0.003648</td>\n",
       "      <td>-0.001934</td>\n",
       "      <td>-0.007462</td>\n",
       "      <td>0.003605</td>\n",
       "      <td>0.029744</td>\n",
       "      <td>0.042686</td>\n",
       "      <td>1.000000</td>\n",
       "      <td>0.023327</td>\n",
       "    </tr>\n",
       "    <tr>\n",
       "      <th>op_area</th>\n",
       "      <td>-0.000090</td>\n",
       "      <td>0.001550</td>\n",
       "      <td>-0.111869</td>\n",
       "      <td>-0.001546</td>\n",
       "      <td>0.021569</td>\n",
       "      <td>0.018031</td>\n",
       "      <td>-0.019462</td>\n",
       "      <td>0.041498</td>\n",
       "      <td>0.176976</td>\n",
       "      <td>0.131476</td>\n",
       "      <td>0.023327</td>\n",
       "      <td>1.000000</td>\n",
       "    </tr>\n",
       "  </tbody>\n",
       "</table>\n",
       "</div>"
      ],
      "text/plain": [
       "                             id      week  center_id   meal_id  \\\n",
       "id                     1.000000  0.002225   0.002641  0.000488   \n",
       "week                   0.002225  1.000000  -0.003450  0.019814   \n",
       "center_id              0.002641 -0.003450   1.000000  0.009893   \n",
       "meal_id                0.000488  0.019814   0.009893  1.000000   \n",
       "checkout_price         0.001941  0.026581   0.001348  0.010748   \n",
       "base_price             0.002909  0.028614   0.000604  0.002605   \n",
       "emailer_for_promotion  0.002001 -0.000841   0.013658  0.013402   \n",
       "homepage_featured      0.003111 -0.008263  -0.005043  0.016354   \n",
       "num_orders             0.000702 -0.017210  -0.053035  0.010597   \n",
       "city_code             -0.000387  0.000405   0.061078 -0.003198   \n",
       "region_code           -0.000648  0.004600  -0.003426 -0.001662   \n",
       "op_area               -0.000090  0.001550  -0.111869 -0.001546   \n",
       "\n",
       "                       checkout_price  base_price  emailer_for_promotion  \\\n",
       "id                           0.001941    0.002909               0.002001   \n",
       "week                         0.026581    0.028614              -0.000841   \n",
       "center_id                    0.001348    0.000604               0.013658   \n",
       "meal_id                      0.010748    0.002605               0.013402   \n",
       "checkout_price               1.000000    0.953389               0.004818   \n",
       "base_price                   0.953389    1.000000               0.171173   \n",
       "emailer_for_promotion        0.004818    0.171173               1.000000   \n",
       "homepage_featured           -0.057184    0.057156               0.390534   \n",
       "num_orders                  -0.282108   -0.222306               0.277147   \n",
       "city_code                   -0.004805   -0.002054              -0.005234   \n",
       "region_code                 -0.003648   -0.001934              -0.007462   \n",
       "op_area                      0.021569    0.018031              -0.019462   \n",
       "\n",
       "                       homepage_featured  num_orders  city_code  region_code  \\\n",
       "id                              0.003111    0.000702  -0.000387    -0.000648   \n",
       "week                           -0.008263   -0.017210   0.000405     0.004600   \n",
       "center_id                      -0.005043   -0.053035   0.061078    -0.003426   \n",
       "meal_id                         0.016354    0.010597  -0.003198    -0.001662   \n",
       "checkout_price                 -0.057184   -0.282108  -0.004805    -0.003648   \n",
       "base_price                      0.057156   -0.222306  -0.002054    -0.001934   \n",
       "emailer_for_promotion           0.390534    0.277147  -0.005234    -0.007462   \n",
       "homepage_featured               1.000000    0.294490   0.008640     0.003605   \n",
       "num_orders                      0.294490    1.000000   0.041596     0.029744   \n",
       "city_code                       0.008640    0.041596   1.000000     0.042686   \n",
       "region_code                     0.003605    0.029744   0.042686     1.000000   \n",
       "op_area                         0.041498    0.176976   0.131476     0.023327   \n",
       "\n",
       "                        op_area  \n",
       "id                    -0.000090  \n",
       "week                   0.001550  \n",
       "center_id             -0.111869  \n",
       "meal_id               -0.001546  \n",
       "checkout_price         0.021569  \n",
       "base_price             0.018031  \n",
       "emailer_for_promotion -0.019462  \n",
       "homepage_featured      0.041498  \n",
       "num_orders             0.176976  \n",
       "city_code              0.131476  \n",
       "region_code            0.023327  \n",
       "op_area                1.000000  "
      ]
     },
     "execution_count": 22,
     "metadata": {},
     "output_type": "execute_result"
    }
   ],
   "source": [
    "#Correlation of training numerical feature\n",
    "cor=train.corr()\n",
    "cor"
   ]
  },
  {
   "cell_type": "code",
   "execution_count": 23,
   "id": "e93f0ea8",
   "metadata": {},
   "outputs": [
    {
     "data": {
      "text/plain": [
       "<AxesSubplot:>"
      ]
     },
     "execution_count": 23,
     "metadata": {},
     "output_type": "execute_result"
    },
    {
     "data": {
      "image/png": "[encoded data removed]",
      "text/plain": [
       "<Figure size 720x432 with 2 Axes>"
      ]
     },
     "metadata": {
      "needs_background": "light"
     },
     "output_type": "display_data"
    }
   ],
   "source": [
    "plt.figure(figsize=(10,6))\n",
    "sns.heatmap(cor)"
   ]
  },
  {
   "cell_type": "code",
   "execution_count": 24,
   "id": "86075615",
   "metadata": {},
   "outputs": [
    {
     "data": {
      "text/plain": [
       "<AxesSubplot:>"
      ]
     },
     "execution_count": 24,
     "metadata": {},
     "output_type": "execute_result"
    },
    {
     "data": {
      "image/png": "[encoded data removed]",
      "text/plain": [
       "<Figure size 1440x576 with 1 Axes>"
      ]
     },
     "metadata": {
      "needs_background": "light"
     },
     "output_type": "display_data"
    }
   ],
   "source": [
    "train[[feature for feature in ['checkout_price','base_price']]].boxplot(figsize=(20,8))"
   ]
  },
  {
   "cell_type": "code",
   "execution_count": 25,
   "id": "510a2f93",
   "metadata": {},
   "outputs": [
    {
     "data": {
      "text/plain": [
       "<AxesSubplot:>"
      ]
     },
     "execution_count": 25,
     "metadata": {},
     "output_type": "execute_result"
    },
    {
     "data": {
      "image/png": "[encoded data removed]",
      "text/plain": [
       "<Figure size 432x288 with 1 Axes>"
      ]
     },
     "metadata": {
      "needs_background": "light"
     },
     "output_type": "display_data"
    }
   ],
   "source": [
    "train[['emailer_for_promotion','homepage_featured']].boxplot()"
   ]
  },
  {
   "cell_type": "code",
   "execution_count": 26,
   "id": "e3b35e27",
   "metadata": {},
   "outputs": [
    {
     "data": {
      "text/plain": [
       "<AxesSubplot:>"
      ]
     },
     "execution_count": 26,
     "metadata": {},
     "output_type": "execute_result"
    },
    {
     "data": {
      "image/png": "[encoded data removed]",
      "text/plain": [
       "<Figure size 432x288 with 1 Axes>"
      ]
     },
     "metadata": {
      "needs_background": "light"
     },
     "output_type": "display_data"
    }
   ],
   "source": [
    "train[['num_orders']].boxplot()"
   ]
  },
  {
   "cell_type": "code",
   "execution_count": 27,
   "id": "dd69f178",
   "metadata": {},
   "outputs": [
    {
     "data": {
      "text/plain": [
       "<AxesSubplot:>"
      ]
     },
     "execution_count": 27,
     "metadata": {},
     "output_type": "execute_result"
    },
    {
     "data": {
      "image/png": "[encoded data removed]",
      "text/plain": [
       "<Figure size 576x288 with 1 Axes>"
      ]
     },
     "metadata": {
      "needs_background": "light"
     },
     "output_type": "display_data"
    }
   ],
   "source": [
    "train['num_orders'].hist(color='green',bins=40,figsize=(8,4))"
   ]
  },
  {
   "cell_type": "code",
   "execution_count": 28,
   "id": "5ef283b0",
   "metadata": {},
   "outputs": [
    {
     "data": {
      "text/plain": [
       "<AxesSubplot:xlabel='cuisine', ylabel='count'>"
      ]
     },
     "execution_count": 28,
     "metadata": {},
     "output_type": "execute_result"
    },
    {
     "data": {
      "image/png": "[encoded data removed]",
      "text/plain": [
       "<Figure size 432x288 with 1 Axes>"
      ]
     },
     "metadata": {},
     "output_type": "display_data"
    }
   ],
   "source": [
    "sns.set_style('whitegrid')\n",
    "sns.countplot(x='cuisine',data=train)"
   ]
  },
  {
   "cell_type": "code",
   "execution_count": 29,
   "id": "93b1c449",
   "metadata": {},
   "outputs": [
    {
     "data": {
      "text/plain": [
       "<AxesSubplot:xlabel='category', ylabel='count'>"
      ]
     },
     "execution_count": 29,
     "metadata": {},
     "output_type": "execute_result"
    },
    {
     "data": {
      "image/png": "[encoded data removed]",
      "text/plain": [
       "<Figure size 1440x360 with 1 Axes>"
      ]
     },
     "metadata": {},
     "output_type": "display_data"
    }
   ],
   "source": [
    "plt.figure(figsize=(20,5))\n",
    "sns.set_style('whitegrid')\n",
    "sns.countplot(x='category',data=train)"
   ]
  },
  {
   "cell_type": "code",
   "execution_count": 30,
   "id": "d3f60283",
   "metadata": {
    "scrolled": true
   },
   "outputs": [
    {
     "data": {
      "text/plain": [
       "<AxesSubplot:xlabel='center_type', ylabel='count'>"
      ]
     },
     "execution_count": 30,
     "metadata": {},
     "output_type": "execute_result"
    },
    {
     "data": {
      "image/png": "[encoded data removed]",
      "text/plain": [
       "<Figure size 720x360 with 1 Axes>"
      ]
     },
     "metadata": {},
     "output_type": "display_data"
    }
   ],
   "source": [
    "plt.figure(figsize=(10,5))\n",
    "sns.set_style('whitegrid')\n",
    "sns.countplot(x='center_type',data=train)"
   ]
  },
  {
   "cell_type": "code",
   "execution_count": 31,
   "id": "97670cfe",
   "metadata": {},
   "outputs": [
    {
     "data": {
      "text/plain": [
       "category\n",
       "Beverages       316.526116\n",
       "Biryani          30.651402\n",
       "Desert           66.250905\n",
       "Extras          293.834169\n",
       "Fish             85.595268\n",
       "Other Snacks    162.234691\n",
       "Pasta            59.137142\n",
       "Pizza           222.817309\n",
       "Rice Bowl       624.822288\n",
       "Salad           383.218460\n",
       "Sandwich        529.776276\n",
       "Seafood         100.895898\n",
       "Soup             82.023353\n",
       "Starters        155.276110\n",
       "Name: num_orders, dtype: float64"
      ]
     },
     "execution_count": 31,
     "metadata": {},
     "output_type": "execute_result"
    }
   ],
   "source": [
    "train.groupby('category')['num_orders'].mean()"
   ]
  },
  {
   "cell_type": "code",
   "execution_count": 32,
   "id": "ca42f9a3",
   "metadata": {},
   "outputs": [
    {
     "data": {
      "text/plain": [
       "<AxesSubplot:xlabel='homepage_featured', ylabel='count'>"
      ]
     },
     "execution_count": 32,
     "metadata": {},
     "output_type": "execute_result"
    },
    {
     "data": {
      "image/png": "[encoded data removed]",
      "text/plain": [
       "<Figure size 720x360 with 1 Axes>"
      ]
     },
     "metadata": {},
     "output_type": "display_data"
    }
   ],
   "source": [
    "plt.figure(figsize=(10,5))\n",
    "sns.set_style('whitegrid')\n",
    "sns.countplot(x='homepage_featured',data=train)"
   ]
  },
  {
   "cell_type": "code",
   "execution_count": 33,
   "id": "99edcd8b",
   "metadata": {},
   "outputs": [
    {
     "data": {
      "text/plain": [
       "<AxesSubplot:xlabel='emailer_for_promotion', ylabel='count'>"
      ]
     },
     "execution_count": 33,
     "metadata": {},
     "output_type": "execute_result"
    },
    {
     "data": {
      "image/png": "[encoded data removed]",
      "text/plain": [
       "<Figure size 720x360 with 1 Axes>"
      ]
     },
     "metadata": {},
     "output_type": "display_data"
    }
   ],
   "source": [
    "plt.figure(figsize=(10,5))\n",
    "sns.set_style('whitegrid')\n",
    "sns.countplot(x='emailer_for_promotion',data=train)"
   ]
  },
  {
   "cell_type": "code",
   "execution_count": 34,
   "id": "a2c8d47e",
   "metadata": {},
   "outputs": [
    {
     "data": {
      "text/html": [
       "<div>\n",
       "<style scoped>\n",
       "    .dataframe tbody tr th:only-of-type {\n",
       "        vertical-align: middle;\n",
       "    }\n",
       "\n",
       "    .dataframe tbody tr th {\n",
       "        vertical-align: top;\n",
       "    }\n",
       "\n",
       "    .dataframe thead th {\n",
       "        text-align: right;\n",
       "    }\n",
       "</style>\n",
       "<table border=\"1\" class=\"dataframe\">\n",
       "  <thead>\n",
       "    <tr style=\"text-align: right;\">\n",
       "      <th></th>\n",
       "      <th>id</th>\n",
       "      <th>week</th>\n",
       "      <th>center_id</th>\n",
       "      <th>meal_id</th>\n",
       "      <th>checkout_price</th>\n",
       "      <th>base_price</th>\n",
       "      <th>emailer_for_promotion</th>\n",
       "      <th>homepage_featured</th>\n",
       "      <th>num_orders</th>\n",
       "      <th>category</th>\n",
       "      <th>cuisine</th>\n",
       "      <th>city_code</th>\n",
       "      <th>region_code</th>\n",
       "      <th>center_type</th>\n",
       "      <th>op_area</th>\n",
       "    </tr>\n",
       "  </thead>\n",
       "  <tbody>\n",
       "    <tr>\n",
       "      <th>0</th>\n",
       "      <td>1379560</td>\n",
       "      <td>1</td>\n",
       "      <td>55</td>\n",
       "      <td>1885</td>\n",
       "      <td>136.83</td>\n",
       "      <td>152.29</td>\n",
       "      <td>0</td>\n",
       "      <td>0</td>\n",
       "      <td>177</td>\n",
       "      <td>Beverages</td>\n",
       "      <td>Thai</td>\n",
       "      <td>647</td>\n",
       "      <td>56</td>\n",
       "      <td>TYPE_C</td>\n",
       "      <td>2.0</td>\n",
       "    </tr>\n",
       "    <tr>\n",
       "      <th>1</th>\n",
       "      <td>1018704</td>\n",
       "      <td>2</td>\n",
       "      <td>55</td>\n",
       "      <td>1885</td>\n",
       "      <td>135.83</td>\n",
       "      <td>152.29</td>\n",
       "      <td>0</td>\n",
       "      <td>0</td>\n",
       "      <td>323</td>\n",
       "      <td>Beverages</td>\n",
       "      <td>Thai</td>\n",
       "      <td>647</td>\n",
       "      <td>56</td>\n",
       "      <td>TYPE_C</td>\n",
       "      <td>2.0</td>\n",
       "    </tr>\n",
       "    <tr>\n",
       "      <th>2</th>\n",
       "      <td>1196273</td>\n",
       "      <td>3</td>\n",
       "      <td>55</td>\n",
       "      <td>1885</td>\n",
       "      <td>132.92</td>\n",
       "      <td>133.92</td>\n",
       "      <td>0</td>\n",
       "      <td>0</td>\n",
       "      <td>96</td>\n",
       "      <td>Beverages</td>\n",
       "      <td>Thai</td>\n",
       "      <td>647</td>\n",
       "      <td>56</td>\n",
       "      <td>TYPE_C</td>\n",
       "      <td>2.0</td>\n",
       "    </tr>\n",
       "    <tr>\n",
       "      <th>3</th>\n",
       "      <td>1116527</td>\n",
       "      <td>4</td>\n",
       "      <td>55</td>\n",
       "      <td>1885</td>\n",
       "      <td>135.86</td>\n",
       "      <td>134.86</td>\n",
       "      <td>0</td>\n",
       "      <td>0</td>\n",
       "      <td>163</td>\n",
       "      <td>Beverages</td>\n",
       "      <td>Thai</td>\n",
       "      <td>647</td>\n",
       "      <td>56</td>\n",
       "      <td>TYPE_C</td>\n",
       "      <td>2.0</td>\n",
       "    </tr>\n",
       "    <tr>\n",
       "      <th>4</th>\n",
       "      <td>1343872</td>\n",
       "      <td>5</td>\n",
       "      <td>55</td>\n",
       "      <td>1885</td>\n",
       "      <td>146.50</td>\n",
       "      <td>147.50</td>\n",
       "      <td>0</td>\n",
       "      <td>0</td>\n",
       "      <td>215</td>\n",
       "      <td>Beverages</td>\n",
       "      <td>Thai</td>\n",
       "      <td>647</td>\n",
       "      <td>56</td>\n",
       "      <td>TYPE_C</td>\n",
       "      <td>2.0</td>\n",
       "    </tr>\n",
       "  </tbody>\n",
       "</table>\n",
       "</div>"
      ],
      "text/plain": [
       "        id  week  center_id  meal_id  checkout_price  base_price  \\\n",
       "0  1379560     1         55     1885          136.83      152.29   \n",
       "1  1018704     2         55     1885          135.83      152.29   \n",
       "2  1196273     3         55     1885          132.92      133.92   \n",
       "3  1116527     4         55     1885          135.86      134.86   \n",
       "4  1343872     5         55     1885          146.50      147.50   \n",
       "\n",
       "   emailer_for_promotion  homepage_featured  num_orders   category cuisine  \\\n",
       "0                      0                  0         177  Beverages    Thai   \n",
       "1                      0                  0         323  Beverages    Thai   \n",
       "2                      0                  0          96  Beverages    Thai   \n",
       "3                      0                  0         163  Beverages    Thai   \n",
       "4                      0                  0         215  Beverages    Thai   \n",
       "\n",
       "   city_code  region_code center_type  op_area  \n",
       "0        647           56      TYPE_C      2.0  \n",
       "1        647           56      TYPE_C      2.0  \n",
       "2        647           56      TYPE_C      2.0  \n",
       "3        647           56      TYPE_C      2.0  \n",
       "4        647           56      TYPE_C      2.0  "
      ]
     },
     "execution_count": 34,
     "metadata": {},
     "output_type": "execute_result"
    }
   ],
   "source": [
    "train.head()"
   ]
  },
  {
   "cell_type": "code",
   "execution_count": 35,
   "id": "a373bcb9",
   "metadata": {},
   "outputs": [
    {
     "data": {
      "text/plain": [
       "456548"
      ]
     },
     "execution_count": 35,
     "metadata": {},
     "output_type": "execute_result"
    }
   ],
   "source": [
    "len(train['id'].value_counts())"
   ]
  },
  {
   "cell_type": "code",
   "execution_count": 36,
   "id": "22525c50",
   "metadata": {},
   "outputs": [],
   "source": [
    "#New feature in test dataset\n",
    "#num_orders=-1\n",
    "test['num_orders']=-1"
   ]
  },
  {
   "cell_type": "code",
   "execution_count": 37,
   "id": "110be567",
   "metadata": {},
   "outputs": [],
   "source": [
    "#Concatenating training and testing dataset\n",
    "frame=[train,test]\n",
    "data=pd.concat(frame)"
   ]
  },
  {
   "cell_type": "code",
   "execution_count": 38,
   "id": "b99491f5",
   "metadata": {},
   "outputs": [
    {
     "data": {
      "text/html": [
       "<div>\n",
       "<style scoped>\n",
       "    .dataframe tbody tr th:only-of-type {\n",
       "        vertical-align: middle;\n",
       "    }\n",
       "\n",
       "    .dataframe tbody tr th {\n",
       "        vertical-align: top;\n",
       "    }\n",
       "\n",
       "    .dataframe thead th {\n",
       "        text-align: right;\n",
       "    }\n",
       "</style>\n",
       "<table border=\"1\" class=\"dataframe\">\n",
       "  <thead>\n",
       "    <tr style=\"text-align: right;\">\n",
       "      <th></th>\n",
       "      <th>id</th>\n",
       "      <th>week</th>\n",
       "      <th>center_id</th>\n",
       "      <th>meal_id</th>\n",
       "      <th>checkout_price</th>\n",
       "      <th>base_price</th>\n",
       "      <th>emailer_for_promotion</th>\n",
       "      <th>homepage_featured</th>\n",
       "      <th>num_orders</th>\n",
       "      <th>category</th>\n",
       "      <th>cuisine</th>\n",
       "      <th>city_code</th>\n",
       "      <th>region_code</th>\n",
       "      <th>center_type</th>\n",
       "      <th>op_area</th>\n",
       "    </tr>\n",
       "  </thead>\n",
       "  <tbody>\n",
       "    <tr>\n",
       "      <th>0</th>\n",
       "      <td>1379560</td>\n",
       "      <td>1</td>\n",
       "      <td>55</td>\n",
       "      <td>1885</td>\n",
       "      <td>136.83</td>\n",
       "      <td>152.29</td>\n",
       "      <td>0</td>\n",
       "      <td>0</td>\n",
       "      <td>177</td>\n",
       "      <td>Beverages</td>\n",
       "      <td>Thai</td>\n",
       "      <td>647</td>\n",
       "      <td>56</td>\n",
       "      <td>TYPE_C</td>\n",
       "      <td>2.0</td>\n",
       "    </tr>\n",
       "    <tr>\n",
       "      <th>1</th>\n",
       "      <td>1018704</td>\n",
       "      <td>2</td>\n",
       "      <td>55</td>\n",
       "      <td>1885</td>\n",
       "      <td>135.83</td>\n",
       "      <td>152.29</td>\n",
       "      <td>0</td>\n",
       "      <td>0</td>\n",
       "      <td>323</td>\n",
       "      <td>Beverages</td>\n",
       "      <td>Thai</td>\n",
       "      <td>647</td>\n",
       "      <td>56</td>\n",
       "      <td>TYPE_C</td>\n",
       "      <td>2.0</td>\n",
       "    </tr>\n",
       "    <tr>\n",
       "      <th>2</th>\n",
       "      <td>1196273</td>\n",
       "      <td>3</td>\n",
       "      <td>55</td>\n",
       "      <td>1885</td>\n",
       "      <td>132.92</td>\n",
       "      <td>133.92</td>\n",
       "      <td>0</td>\n",
       "      <td>0</td>\n",
       "      <td>96</td>\n",
       "      <td>Beverages</td>\n",
       "      <td>Thai</td>\n",
       "      <td>647</td>\n",
       "      <td>56</td>\n",
       "      <td>TYPE_C</td>\n",
       "      <td>2.0</td>\n",
       "    </tr>\n",
       "    <tr>\n",
       "      <th>3</th>\n",
       "      <td>1116527</td>\n",
       "      <td>4</td>\n",
       "      <td>55</td>\n",
       "      <td>1885</td>\n",
       "      <td>135.86</td>\n",
       "      <td>134.86</td>\n",
       "      <td>0</td>\n",
       "      <td>0</td>\n",
       "      <td>163</td>\n",
       "      <td>Beverages</td>\n",
       "      <td>Thai</td>\n",
       "      <td>647</td>\n",
       "      <td>56</td>\n",
       "      <td>TYPE_C</td>\n",
       "      <td>2.0</td>\n",
       "    </tr>\n",
       "    <tr>\n",
       "      <th>4</th>\n",
       "      <td>1343872</td>\n",
       "      <td>5</td>\n",
       "      <td>55</td>\n",
       "      <td>1885</td>\n",
       "      <td>146.50</td>\n",
       "      <td>147.50</td>\n",
       "      <td>0</td>\n",
       "      <td>0</td>\n",
       "      <td>215</td>\n",
       "      <td>Beverages</td>\n",
       "      <td>Thai</td>\n",
       "      <td>647</td>\n",
       "      <td>56</td>\n",
       "      <td>TYPE_C</td>\n",
       "      <td>2.0</td>\n",
       "    </tr>\n",
       "  </tbody>\n",
       "</table>\n",
       "</div>"
      ],
      "text/plain": [
       "        id  week  center_id  meal_id  checkout_price  base_price  \\\n",
       "0  1379560     1         55     1885          136.83      152.29   \n",
       "1  1018704     2         55     1885          135.83      152.29   \n",
       "2  1196273     3         55     1885          132.92      133.92   \n",
       "3  1116527     4         55     1885          135.86      134.86   \n",
       "4  1343872     5         55     1885          146.50      147.50   \n",
       "\n",
       "   emailer_for_promotion  homepage_featured  num_orders   category cuisine  \\\n",
       "0                      0                  0         177  Beverages    Thai   \n",
       "1                      0                  0         323  Beverages    Thai   \n",
       "2                      0                  0          96  Beverages    Thai   \n",
       "3                      0                  0         163  Beverages    Thai   \n",
       "4                      0                  0         215  Beverages    Thai   \n",
       "\n",
       "   city_code  region_code center_type  op_area  \n",
       "0        647           56      TYPE_C      2.0  \n",
       "1        647           56      TYPE_C      2.0  \n",
       "2        647           56      TYPE_C      2.0  \n",
       "3        647           56      TYPE_C      2.0  \n",
       "4        647           56      TYPE_C      2.0  "
      ]
     },
     "execution_count": 38,
     "metadata": {},
     "output_type": "execute_result"
    }
   ],
   "source": [
    "data.head()"
   ]
  },
  {
   "cell_type": "code",
   "execution_count": 39,
   "id": "1c0624a5",
   "metadata": {},
   "outputs": [
    {
     "data": {
      "text/plain": [
       "(489121, 15)"
      ]
     },
     "execution_count": 39,
     "metadata": {},
     "output_type": "execute_result"
    }
   ],
   "source": [
    "data.shape"
   ]
  },
  {
   "cell_type": "code",
   "execution_count": 40,
   "id": "ce9fd9b1",
   "metadata": {},
   "outputs": [],
   "source": [
    "#New Feature Discount_amount=baseprice-checkout price\n",
    "data['Discount_amount']=data['base_price']-data['checkout_price']"
   ]
  },
  {
   "cell_type": "code",
   "execution_count": 41,
   "id": "7593381b",
   "metadata": {},
   "outputs": [],
   "source": [
    "#Discount Y/N\n",
    "data['discount y/n'] = [1 if x>0 else 0 for x in (data['base_price']-data['checkout_price'])]"
   ]
  },
  {
   "cell_type": "code",
   "execution_count": 42,
   "id": "f51f5561",
   "metadata": {},
   "outputs": [
    {
     "data": {
      "text/html": [
       "<div>\n",
       "<style scoped>\n",
       "    .dataframe tbody tr th:only-of-type {\n",
       "        vertical-align: middle;\n",
       "    }\n",
       "\n",
       "    .dataframe tbody tr th {\n",
       "        vertical-align: top;\n",
       "    }\n",
       "\n",
       "    .dataframe thead th {\n",
       "        text-align: right;\n",
       "    }\n",
       "</style>\n",
       "<table border=\"1\" class=\"dataframe\">\n",
       "  <thead>\n",
       "    <tr style=\"text-align: right;\">\n",
       "      <th></th>\n",
       "      <th>id</th>\n",
       "      <th>week</th>\n",
       "      <th>center_id</th>\n",
       "      <th>meal_id</th>\n",
       "      <th>checkout_price</th>\n",
       "      <th>base_price</th>\n",
       "      <th>emailer_for_promotion</th>\n",
       "      <th>homepage_featured</th>\n",
       "      <th>num_orders</th>\n",
       "      <th>category</th>\n",
       "      <th>cuisine</th>\n",
       "      <th>city_code</th>\n",
       "      <th>region_code</th>\n",
       "      <th>center_type</th>\n",
       "      <th>op_area</th>\n",
       "      <th>Discount_amount</th>\n",
       "      <th>discount y/n</th>\n",
       "    </tr>\n",
       "  </thead>\n",
       "  <tbody>\n",
       "    <tr>\n",
       "      <th>0</th>\n",
       "      <td>1379560</td>\n",
       "      <td>1</td>\n",
       "      <td>55</td>\n",
       "      <td>1885</td>\n",
       "      <td>136.83</td>\n",
       "      <td>152.29</td>\n",
       "      <td>0</td>\n",
       "      <td>0</td>\n",
       "      <td>177</td>\n",
       "      <td>Beverages</td>\n",
       "      <td>Thai</td>\n",
       "      <td>647</td>\n",
       "      <td>56</td>\n",
       "      <td>TYPE_C</td>\n",
       "      <td>2.0</td>\n",
       "      <td>15.46</td>\n",
       "      <td>1</td>\n",
       "    </tr>\n",
       "    <tr>\n",
       "      <th>1</th>\n",
       "      <td>1018704</td>\n",
       "      <td>2</td>\n",
       "      <td>55</td>\n",
       "      <td>1885</td>\n",
       "      <td>135.83</td>\n",
       "      <td>152.29</td>\n",
       "      <td>0</td>\n",
       "      <td>0</td>\n",
       "      <td>323</td>\n",
       "      <td>Beverages</td>\n",
       "      <td>Thai</td>\n",
       "      <td>647</td>\n",
       "      <td>56</td>\n",
       "      <td>TYPE_C</td>\n",
       "      <td>2.0</td>\n",
       "      <td>16.46</td>\n",
       "      <td>1</td>\n",
       "    </tr>\n",
       "    <tr>\n",
       "      <th>2</th>\n",
       "      <td>1196273</td>\n",
       "      <td>3</td>\n",
       "      <td>55</td>\n",
       "      <td>1885</td>\n",
       "      <td>132.92</td>\n",
       "      <td>133.92</td>\n",
       "      <td>0</td>\n",
       "      <td>0</td>\n",
       "      <td>96</td>\n",
       "      <td>Beverages</td>\n",
       "      <td>Thai</td>\n",
       "      <td>647</td>\n",
       "      <td>56</td>\n",
       "      <td>TYPE_C</td>\n",
       "      <td>2.0</td>\n",
       "      <td>1.00</td>\n",
       "      <td>1</td>\n",
       "    </tr>\n",
       "    <tr>\n",
       "      <th>3</th>\n",
       "      <td>1116527</td>\n",
       "      <td>4</td>\n",
       "      <td>55</td>\n",
       "      <td>1885</td>\n",
       "      <td>135.86</td>\n",
       "      <td>134.86</td>\n",
       "      <td>0</td>\n",
       "      <td>0</td>\n",
       "      <td>163</td>\n",
       "      <td>Beverages</td>\n",
       "      <td>Thai</td>\n",
       "      <td>647</td>\n",
       "      <td>56</td>\n",
       "      <td>TYPE_C</td>\n",
       "      <td>2.0</td>\n",
       "      <td>-1.00</td>\n",
       "      <td>0</td>\n",
       "    </tr>\n",
       "    <tr>\n",
       "      <th>4</th>\n",
       "      <td>1343872</td>\n",
       "      <td>5</td>\n",
       "      <td>55</td>\n",
       "      <td>1885</td>\n",
       "      <td>146.50</td>\n",
       "      <td>147.50</td>\n",
       "      <td>0</td>\n",
       "      <td>0</td>\n",
       "      <td>215</td>\n",
       "      <td>Beverages</td>\n",
       "      <td>Thai</td>\n",
       "      <td>647</td>\n",
       "      <td>56</td>\n",
       "      <td>TYPE_C</td>\n",
       "      <td>2.0</td>\n",
       "      <td>1.00</td>\n",
       "      <td>1</td>\n",
       "    </tr>\n",
       "  </tbody>\n",
       "</table>\n",
       "</div>"
      ],
      "text/plain": [
       "        id  week  center_id  meal_id  checkout_price  base_price  \\\n",
       "0  1379560     1         55     1885          136.83      152.29   \n",
       "1  1018704     2         55     1885          135.83      152.29   \n",
       "2  1196273     3         55     1885          132.92      133.92   \n",
       "3  1116527     4         55     1885          135.86      134.86   \n",
       "4  1343872     5         55     1885          146.50      147.50   \n",
       "\n",
       "   emailer_for_promotion  homepage_featured  num_orders   category cuisine  \\\n",
       "0                      0                  0         177  Beverages    Thai   \n",
       "1                      0                  0         323  Beverages    Thai   \n",
       "2                      0                  0          96  Beverages    Thai   \n",
       "3                      0                  0         163  Beverages    Thai   \n",
       "4                      0                  0         215  Beverages    Thai   \n",
       "\n",
       "   city_code  region_code center_type  op_area  Discount_amount  discount y/n  \n",
       "0        647           56      TYPE_C      2.0            15.46             1  \n",
       "1        647           56      TYPE_C      2.0            16.46             1  \n",
       "2        647           56      TYPE_C      2.0             1.00             1  \n",
       "3        647           56      TYPE_C      2.0            -1.00             0  \n",
       "4        647           56      TYPE_C      2.0             1.00             1  "
      ]
     },
     "execution_count": 42,
     "metadata": {},
     "output_type": "execute_result"
    }
   ],
   "source": [
    "data.head()"
   ]
  },
  {
   "cell_type": "code",
   "execution_count": 43,
   "id": "363bbbf8",
   "metadata": {},
   "outputs": [
    {
     "name": "stdout",
     "output_type": "stream",
     "text": [
      "Unique value in category is : 14\n",
      "Unique value in cuisine is : 4\n",
      "Unique value in center_type is : 3\n"
     ]
    }
   ],
   "source": [
    "#Unique values in categorical feature\n",
    "for cat in cat_feature:\n",
    "    print(\"Unique value in \"+cat+\" is :\",data[cat].nunique())"
   ]
  },
  {
   "cell_type": "code",
   "execution_count": 44,
   "id": "53b95ce3",
   "metadata": {},
   "outputs": [],
   "source": [
    "#Mapping the category to value_counts\n",
    "category=dict(data['category'].value_counts())\n",
    "data['category']=data['category'].map(category)"
   ]
  },
  {
   "cell_type": "code",
   "execution_count": 45,
   "id": "83f738e2",
   "metadata": {},
   "outputs": [
    {
     "data": {
      "text/plain": [
       "(489121, 17)"
      ]
     },
     "execution_count": 45,
     "metadata": {},
     "output_type": "execute_result"
    }
   ],
   "source": [
    "data.shape"
   ]
  },
  {
   "cell_type": "code",
   "execution_count": 46,
   "id": "bf3023e0",
   "metadata": {},
   "outputs": [],
   "source": [
    "data=pd.get_dummies(data,drop_first=True)"
   ]
  },
  {
   "cell_type": "code",
   "execution_count": 47,
   "id": "e4d0fb9e",
   "metadata": {},
   "outputs": [
    {
     "data": {
      "text/plain": [
       "<AxesSubplot:>"
      ]
     },
     "execution_count": 47,
     "metadata": {},
     "output_type": "execute_result"
    },
    {
     "data": {
      "image/png": "[encoded data removed]",
      "text/plain": [
       "<Figure size 432x288 with 1 Axes>"
      ]
     },
     "metadata": {},
     "output_type": "display_data"
    }
   ],
   "source": [
    "data[['num_orders']].boxplot()"
   ]
  },
  {
   "cell_type": "code",
   "execution_count": 48,
   "id": "e309d893",
   "metadata": {},
   "outputs": [],
   "source": [
    "data[data['num_orders']>15000]=data['num_orders'].median()"
   ]
  },
  {
   "cell_type": "code",
   "execution_count": 49,
   "id": "b7d3b356",
   "metadata": {},
   "outputs": [],
   "source": [
    "#Log transformation of num_oreders\n",
    "# data['num_orders']=np.log(data['num_orders'])"
   ]
  },
  {
   "cell_type": "code",
   "execution_count": 50,
   "id": "8df50191",
   "metadata": {},
   "outputs": [
    {
     "data": {
      "text/html": [
       "<div>\n",
       "<style scoped>\n",
       "    .dataframe tbody tr th:only-of-type {\n",
       "        vertical-align: middle;\n",
       "    }\n",
       "\n",
       "    .dataframe tbody tr th {\n",
       "        vertical-align: top;\n",
       "    }\n",
       "\n",
       "    .dataframe thead th {\n",
       "        text-align: right;\n",
       "    }\n",
       "</style>\n",
       "<table border=\"1\" class=\"dataframe\">\n",
       "  <thead>\n",
       "    <tr style=\"text-align: right;\">\n",
       "      <th></th>\n",
       "      <th>id</th>\n",
       "      <th>week</th>\n",
       "      <th>center_id</th>\n",
       "      <th>meal_id</th>\n",
       "      <th>checkout_price</th>\n",
       "      <th>base_price</th>\n",
       "      <th>emailer_for_promotion</th>\n",
       "      <th>homepage_featured</th>\n",
       "      <th>num_orders</th>\n",
       "      <th>category</th>\n",
       "      <th>city_code</th>\n",
       "      <th>region_code</th>\n",
       "      <th>op_area</th>\n",
       "      <th>Discount_amount</th>\n",
       "      <th>discount y/n</th>\n",
       "      <th>cuisine_Indian</th>\n",
       "      <th>cuisine_Italian</th>\n",
       "      <th>cuisine_Thai</th>\n",
       "      <th>center_type_TYPE_B</th>\n",
       "      <th>center_type_TYPE_C</th>\n",
       "    </tr>\n",
       "  </thead>\n",
       "  <tbody>\n",
       "    <tr>\n",
       "      <th>0</th>\n",
       "      <td>1379560</td>\n",
       "      <td>1</td>\n",
       "      <td>55</td>\n",
       "      <td>1885</td>\n",
       "      <td>136.83</td>\n",
       "      <td>152.29</td>\n",
       "      <td>0</td>\n",
       "      <td>0</td>\n",
       "      <td>177</td>\n",
       "      <td>136781</td>\n",
       "      <td>647</td>\n",
       "      <td>56</td>\n",
       "      <td>2.0</td>\n",
       "      <td>15.46</td>\n",
       "      <td>1</td>\n",
       "      <td>0</td>\n",
       "      <td>0</td>\n",
       "      <td>1</td>\n",
       "      <td>0</td>\n",
       "      <td>1</td>\n",
       "    </tr>\n",
       "    <tr>\n",
       "      <th>1</th>\n",
       "      <td>1018704</td>\n",
       "      <td>2</td>\n",
       "      <td>55</td>\n",
       "      <td>1885</td>\n",
       "      <td>135.83</td>\n",
       "      <td>152.29</td>\n",
       "      <td>0</td>\n",
       "      <td>0</td>\n",
       "      <td>323</td>\n",
       "      <td>136781</td>\n",
       "      <td>647</td>\n",
       "      <td>56</td>\n",
       "      <td>2.0</td>\n",
       "      <td>16.46</td>\n",
       "      <td>1</td>\n",
       "      <td>0</td>\n",
       "      <td>0</td>\n",
       "      <td>1</td>\n",
       "      <td>0</td>\n",
       "      <td>1</td>\n",
       "    </tr>\n",
       "    <tr>\n",
       "      <th>2</th>\n",
       "      <td>1196273</td>\n",
       "      <td>3</td>\n",
       "      <td>55</td>\n",
       "      <td>1885</td>\n",
       "      <td>132.92</td>\n",
       "      <td>133.92</td>\n",
       "      <td>0</td>\n",
       "      <td>0</td>\n",
       "      <td>96</td>\n",
       "      <td>136781</td>\n",
       "      <td>647</td>\n",
       "      <td>56</td>\n",
       "      <td>2.0</td>\n",
       "      <td>1.00</td>\n",
       "      <td>1</td>\n",
       "      <td>0</td>\n",
       "      <td>0</td>\n",
       "      <td>1</td>\n",
       "      <td>0</td>\n",
       "      <td>1</td>\n",
       "    </tr>\n",
       "    <tr>\n",
       "      <th>3</th>\n",
       "      <td>1116527</td>\n",
       "      <td>4</td>\n",
       "      <td>55</td>\n",
       "      <td>1885</td>\n",
       "      <td>135.86</td>\n",
       "      <td>134.86</td>\n",
       "      <td>0</td>\n",
       "      <td>0</td>\n",
       "      <td>163</td>\n",
       "      <td>136781</td>\n",
       "      <td>647</td>\n",
       "      <td>56</td>\n",
       "      <td>2.0</td>\n",
       "      <td>-1.00</td>\n",
       "      <td>0</td>\n",
       "      <td>0</td>\n",
       "      <td>0</td>\n",
       "      <td>1</td>\n",
       "      <td>0</td>\n",
       "      <td>1</td>\n",
       "    </tr>\n",
       "    <tr>\n",
       "      <th>4</th>\n",
       "      <td>1343872</td>\n",
       "      <td>5</td>\n",
       "      <td>55</td>\n",
       "      <td>1885</td>\n",
       "      <td>146.50</td>\n",
       "      <td>147.50</td>\n",
       "      <td>0</td>\n",
       "      <td>0</td>\n",
       "      <td>215</td>\n",
       "      <td>136781</td>\n",
       "      <td>647</td>\n",
       "      <td>56</td>\n",
       "      <td>2.0</td>\n",
       "      <td>1.00</td>\n",
       "      <td>1</td>\n",
       "      <td>0</td>\n",
       "      <td>0</td>\n",
       "      <td>1</td>\n",
       "      <td>0</td>\n",
       "      <td>1</td>\n",
       "    </tr>\n",
       "  </tbody>\n",
       "</table>\n",
       "</div>"
      ],
      "text/plain": [
       "        id  week  center_id  meal_id  checkout_price  base_price  \\\n",
       "0  1379560     1         55     1885          136.83      152.29   \n",
       "1  1018704     2         55     1885          135.83      152.29   \n",
       "2  1196273     3         55     1885          132.92      133.92   \n",
       "3  1116527     4         55     1885          135.86      134.86   \n",
       "4  1343872     5         55     1885          146.50      147.50   \n",
       "\n",
       "   emailer_for_promotion  homepage_featured  num_orders  category  city_code  \\\n",
       "0                      0                  0         177    136781        647   \n",
       "1                      0                  0         323    136781        647   \n",
       "2                      0                  0          96    136781        647   \n",
       "3                      0                  0         163    136781        647   \n",
       "4                      0                  0         215    136781        647   \n",
       "\n",
       "   region_code  op_area  Discount_amount  discount y/n  cuisine_Indian  \\\n",
       "0           56      2.0            15.46             1               0   \n",
       "1           56      2.0            16.46             1               0   \n",
       "2           56      2.0             1.00             1               0   \n",
       "3           56      2.0            -1.00             0               0   \n",
       "4           56      2.0             1.00             1               0   \n",
       "\n",
       "   cuisine_Italian  cuisine_Thai  center_type_TYPE_B  center_type_TYPE_C  \n",
       "0                0             1                   0                   1  \n",
       "1                0             1                   0                   1  \n",
       "2                0             1                   0                   1  \n",
       "3                0             1                   0                   1  \n",
       "4                0             1                   0                   1  "
      ]
     },
     "execution_count": 50,
     "metadata": {},
     "output_type": "execute_result"
    }
   ],
   "source": [
    "data.head()"
   ]
  },
  {
   "cell_type": "code",
   "execution_count": 51,
   "id": "aad51805",
   "metadata": {},
   "outputs": [
    {
     "data": {
      "text/plain": [
       "(489121, 20)"
      ]
     },
     "execution_count": 51,
     "metadata": {},
     "output_type": "execute_result"
    }
   ],
   "source": [
    "data.shape"
   ]
  },
  {
   "cell_type": "code",
   "execution_count": 52,
   "id": "11a04de2",
   "metadata": {},
   "outputs": [],
   "source": [
    "#Id of a test\n",
    "test_id=test['id']"
   ]
  },
  {
   "cell_type": "code",
   "execution_count": 53,
   "id": "674b03b8",
   "metadata": {},
   "outputs": [],
   "source": [
    "#Getting a testing dataset from data\n",
    "test=data[data['num_orders']==-1]"
   ]
  },
  {
   "cell_type": "code",
   "execution_count": 54,
   "id": "66844772",
   "metadata": {},
   "outputs": [],
   "source": [
    "#Getting a testing dataset from data\n",
    "train=data[data['num_orders']!=-1]"
   ]
  },
  {
   "cell_type": "code",
   "execution_count": 55,
   "id": "d37fe9ac",
   "metadata": {},
   "outputs": [
    {
     "data": {
      "text/html": [
       "<div>\n",
       "<style scoped>\n",
       "    .dataframe tbody tr th:only-of-type {\n",
       "        vertical-align: middle;\n",
       "    }\n",
       "\n",
       "    .dataframe tbody tr th {\n",
       "        vertical-align: top;\n",
       "    }\n",
       "\n",
       "    .dataframe thead th {\n",
       "        text-align: right;\n",
       "    }\n",
       "</style>\n",
       "<table border=\"1\" class=\"dataframe\">\n",
       "  <thead>\n",
       "    <tr style=\"text-align: right;\">\n",
       "      <th></th>\n",
       "      <th>id</th>\n",
       "      <th>week</th>\n",
       "      <th>center_id</th>\n",
       "      <th>meal_id</th>\n",
       "      <th>checkout_price</th>\n",
       "      <th>base_price</th>\n",
       "      <th>emailer_for_promotion</th>\n",
       "      <th>homepage_featured</th>\n",
       "      <th>num_orders</th>\n",
       "      <th>category</th>\n",
       "      <th>city_code</th>\n",
       "      <th>region_code</th>\n",
       "      <th>op_area</th>\n",
       "      <th>Discount_amount</th>\n",
       "      <th>discount y/n</th>\n",
       "      <th>cuisine_Indian</th>\n",
       "      <th>cuisine_Italian</th>\n",
       "      <th>cuisine_Thai</th>\n",
       "      <th>center_type_TYPE_B</th>\n",
       "      <th>center_type_TYPE_C</th>\n",
       "    </tr>\n",
       "  </thead>\n",
       "  <tbody>\n",
       "    <tr>\n",
       "      <th>0</th>\n",
       "      <td>1028232</td>\n",
       "      <td>146</td>\n",
       "      <td>55</td>\n",
       "      <td>1885</td>\n",
       "      <td>158.11</td>\n",
       "      <td>159.11</td>\n",
       "      <td>0</td>\n",
       "      <td>0</td>\n",
       "      <td>-1</td>\n",
       "      <td>136781</td>\n",
       "      <td>647</td>\n",
       "      <td>56</td>\n",
       "      <td>2.0</td>\n",
       "      <td>1.0</td>\n",
       "      <td>1</td>\n",
       "      <td>0</td>\n",
       "      <td>0</td>\n",
       "      <td>1</td>\n",
       "      <td>0</td>\n",
       "      <td>1</td>\n",
       "    </tr>\n",
       "    <tr>\n",
       "      <th>1</th>\n",
       "      <td>1262649</td>\n",
       "      <td>147</td>\n",
       "      <td>55</td>\n",
       "      <td>1885</td>\n",
       "      <td>159.11</td>\n",
       "      <td>159.11</td>\n",
       "      <td>0</td>\n",
       "      <td>0</td>\n",
       "      <td>-1</td>\n",
       "      <td>136781</td>\n",
       "      <td>647</td>\n",
       "      <td>56</td>\n",
       "      <td>2.0</td>\n",
       "      <td>0.0</td>\n",
       "      <td>0</td>\n",
       "      <td>0</td>\n",
       "      <td>0</td>\n",
       "      <td>1</td>\n",
       "      <td>0</td>\n",
       "      <td>1</td>\n",
       "    </tr>\n",
       "    <tr>\n",
       "      <th>2</th>\n",
       "      <td>1453211</td>\n",
       "      <td>149</td>\n",
       "      <td>55</td>\n",
       "      <td>1885</td>\n",
       "      <td>157.14</td>\n",
       "      <td>158.14</td>\n",
       "      <td>0</td>\n",
       "      <td>0</td>\n",
       "      <td>-1</td>\n",
       "      <td>136781</td>\n",
       "      <td>647</td>\n",
       "      <td>56</td>\n",
       "      <td>2.0</td>\n",
       "      <td>1.0</td>\n",
       "      <td>1</td>\n",
       "      <td>0</td>\n",
       "      <td>0</td>\n",
       "      <td>1</td>\n",
       "      <td>0</td>\n",
       "      <td>1</td>\n",
       "    </tr>\n",
       "    <tr>\n",
       "      <th>3</th>\n",
       "      <td>1262599</td>\n",
       "      <td>150</td>\n",
       "      <td>55</td>\n",
       "      <td>1885</td>\n",
       "      <td>159.14</td>\n",
       "      <td>157.14</td>\n",
       "      <td>0</td>\n",
       "      <td>0</td>\n",
       "      <td>-1</td>\n",
       "      <td>136781</td>\n",
       "      <td>647</td>\n",
       "      <td>56</td>\n",
       "      <td>2.0</td>\n",
       "      <td>-2.0</td>\n",
       "      <td>0</td>\n",
       "      <td>0</td>\n",
       "      <td>0</td>\n",
       "      <td>1</td>\n",
       "      <td>0</td>\n",
       "      <td>1</td>\n",
       "    </tr>\n",
       "    <tr>\n",
       "      <th>4</th>\n",
       "      <td>1495848</td>\n",
       "      <td>151</td>\n",
       "      <td>55</td>\n",
       "      <td>1885</td>\n",
       "      <td>160.11</td>\n",
       "      <td>159.11</td>\n",
       "      <td>0</td>\n",
       "      <td>0</td>\n",
       "      <td>-1</td>\n",
       "      <td>136781</td>\n",
       "      <td>647</td>\n",
       "      <td>56</td>\n",
       "      <td>2.0</td>\n",
       "      <td>-1.0</td>\n",
       "      <td>0</td>\n",
       "      <td>0</td>\n",
       "      <td>0</td>\n",
       "      <td>1</td>\n",
       "      <td>0</td>\n",
       "      <td>1</td>\n",
       "    </tr>\n",
       "  </tbody>\n",
       "</table>\n",
       "</div>"
      ],
      "text/plain": [
       "        id  week  center_id  meal_id  checkout_price  base_price  \\\n",
       "0  1028232   146         55     1885          158.11      159.11   \n",
       "1  1262649   147         55     1885          159.11      159.11   \n",
       "2  1453211   149         55     1885          157.14      158.14   \n",
       "3  1262599   150         55     1885          159.14      157.14   \n",
       "4  1495848   151         55     1885          160.11      159.11   \n",
       "\n",
       "   emailer_for_promotion  homepage_featured  num_orders  category  city_code  \\\n",
       "0                      0                  0          -1    136781        647   \n",
       "1                      0                  0          -1    136781        647   \n",
       "2                      0                  0          -1    136781        647   \n",
       "3                      0                  0          -1    136781        647   \n",
       "4                      0                  0          -1    136781        647   \n",
       "\n",
       "   region_code  op_area  Discount_amount  discount y/n  cuisine_Indian  \\\n",
       "0           56      2.0              1.0             1               0   \n",
       "1           56      2.0              0.0             0               0   \n",
       "2           56      2.0              1.0             1               0   \n",
       "3           56      2.0             -2.0             0               0   \n",
       "4           56      2.0             -1.0             0               0   \n",
       "\n",
       "   cuisine_Italian  cuisine_Thai  center_type_TYPE_B  center_type_TYPE_C  \n",
       "0                0             1                   0                   1  \n",
       "1                0             1                   0                   1  \n",
       "2                0             1                   0                   1  \n",
       "3                0             1                   0                   1  \n",
       "4                0             1                   0                   1  "
      ]
     },
     "execution_count": 55,
     "metadata": {},
     "output_type": "execute_result"
    }
   ],
   "source": [
    "test.head()"
   ]
  },
  {
   "cell_type": "code",
   "execution_count": 56,
   "id": "68aa448c",
   "metadata": {},
   "outputs": [
    {
     "name": "stderr",
     "output_type": "stream",
     "text": [
      "C:\\Users\\Mukut\\anaconda3\\lib\\site-packages\\pandas\\core\\frame.py:4308: SettingWithCopyWarning: \n",
      "A value is trying to be set on a copy of a slice from a DataFrame\n",
      "\n",
      "See the caveats in the documentation: https://pandas.pydata.org/pandas-docs/stable/user_guide/indexing.html#returning-a-view-versus-a-copy\n",
      "  return super().drop(\n"
     ]
    }
   ],
   "source": [
    "#Dropping ID as all the unizue value\n",
    "train.drop('id',axis=1,inplace=True)\n",
    "test.drop(['id','num_orders'],axis=1,inplace=True)"
   ]
  },
  {
   "cell_type": "code",
   "execution_count": 57,
   "id": "527f08cc",
   "metadata": {},
   "outputs": [],
   "source": [
    "#Dependent and independent feature\n",
    "x=train.drop('num_orders',axis=1)\n",
    "y=train['num_orders']"
   ]
  },
  {
   "cell_type": "code",
   "execution_count": 58,
   "id": "43303d3f",
   "metadata": {},
   "outputs": [
    {
     "data": {
      "text/plain": [
       "Index(['week', 'center_id', 'meal_id', 'checkout_price', 'base_price',\n",
       "       'emailer_for_promotion', 'homepage_featured', 'num_orders', 'category',\n",
       "       'city_code', 'region_code', 'op_area', 'Discount_amount',\n",
       "       'discount y/n', 'cuisine_Indian', 'cuisine_Italian', 'cuisine_Thai',\n",
       "       'center_type_TYPE_B', 'center_type_TYPE_C'],\n",
       "      dtype='object')"
      ]
     },
     "execution_count": 58,
     "metadata": {},
     "output_type": "execute_result"
    }
   ],
   "source": [
    "train.columns"
   ]
  },
  {
   "cell_type": "code",
   "execution_count": 59,
   "id": "a8b78fd0",
   "metadata": {},
   "outputs": [],
   "source": [
    "\n",
    "# # determine the mutual information\n",
    "# mutual_info = mutual_info_regression(x, y)\n",
    "# mutual_info"
   ]
  },
  {
   "cell_type": "code",
   "execution_count": 60,
   "id": "f2e3f828",
   "metadata": {},
   "outputs": [],
   "source": [
    "# mutual_info = pd.Series(mutual_info)\n",
    "# mutual_info.index = x.columns\n",
    "# mutual_info.sort_values(ascending=False)"
   ]
  },
  {
   "cell_type": "code",
   "execution_count": 61,
   "id": "f7f4e1cf",
   "metadata": {},
   "outputs": [],
   "source": [
    "# mutual_info.sort_values(ascending=False).plot.bar(figsize=(15,5))"
   ]
  },
  {
   "cell_type": "code",
   "execution_count": 62,
   "id": "fa7dc198",
   "metadata": {},
   "outputs": [],
   "source": [
    "#Dropping week from training and testing set\n",
    "x.drop('week',axis=1,inplace=True)\n",
    "test.drop('week',axis=1,inplace=True)"
   ]
  },
  {
   "cell_type": "code",
   "execution_count": 63,
   "id": "bb688498",
   "metadata": {},
   "outputs": [
    {
     "data": {
      "text/plain": [
       "week                     0\n",
       "center_id                0\n",
       "meal_id                  0\n",
       "checkout_price           0\n",
       "base_price               0\n",
       "emailer_for_promotion    0\n",
       "homepage_featured        0\n",
       "num_orders               0\n",
       "category                 0\n",
       "city_code                0\n",
       "region_code              0\n",
       "op_area                  0\n",
       "Discount_amount          0\n",
       "discount y/n             0\n",
       "cuisine_Indian           0\n",
       "cuisine_Italian          0\n",
       "cuisine_Thai             0\n",
       "center_type_TYPE_B       0\n",
       "center_type_TYPE_C       0\n",
       "dtype: int64"
      ]
     },
     "execution_count": 63,
     "metadata": {},
     "output_type": "execute_result"
    }
   ],
   "source": [
    "train.isnull().sum()"
   ]
  },
  {
   "cell_type": "code",
   "execution_count": 64,
   "id": "5b96d315",
   "metadata": {},
   "outputs": [],
   "source": [
    "#Splitting training and testing dataset\n",
    "x_train,x_test,y_train,y_test=train_test_split(x,y,test_size=0.20,random_state=42)"
   ]
  },
  {
   "cell_type": "code",
   "execution_count": 65,
   "id": "31823f96",
   "metadata": {},
   "outputs": [
    {
     "name": "stdout",
     "output_type": "stream",
     "text": [
      "Train Score : 0.2516813487462284\n",
      "Test Score : 0.24748021514489582\n",
      "R squared : 0.24748021514489582\n",
      "RMSLE : 337.97766649997646\n"
     ]
    }
   ],
   "source": [
    "#Using linear regression\n",
    "lr=LinearRegression()\n",
    "lr.fit(x_train,y_train)\n",
    "lr_predict=lr.predict(x_test)\n",
    "print('Train Score :',lr.score(x_train,y_train))\n",
    "print('Test Score :',lr.score(x_test,y_test))\n",
    "\n",
    "print('R squared :',(r2_score(y_test,lr_predict)))\n",
    "print('RMSLE :',np.sqrt(mean_squared_error(y_test,lr_predict)))"
   ]
  },
  {
   "cell_type": "code",
   "execution_count": 66,
   "id": "510ce1a8",
   "metadata": {},
   "outputs": [],
   "source": [
    "# #Using KNN\n",
    "# kn=KNeighborsRegressor()\n",
    "# kn.fit(x_train,y_train)\n",
    "# kn_predict=kn.predict(x_test)\n",
    "# print('Train Score :',kn.score(x_train,y_train))\n",
    "# print('Test Score :',kn.score(x_test,y_test))\n",
    "\n",
    "# print('R squared :',(r2_score(y_test,kn_predict)))\n",
    "# print('RMSLE :',np.sqrt(mean_squared_error(y_test,kn_predict)))"
   ]
  },
  {
   "cell_type": "code",
   "execution_count": 67,
   "id": "766b154f",
   "metadata": {},
   "outputs": [
    {
     "name": "stdout",
     "output_type": "stream",
     "text": [
      "Train Score : 0.9635156423869187\n",
      "Test Score : 0.8236938649853309\n",
      "R squared : 0.8236938649853309\n",
      "RMSLE : 163.59226079479072\n"
     ]
    }
   ],
   "source": [
    "#Using random forest\n",
    "\n",
    "rf=RandomForestRegressor()\n",
    "rf.fit(x_train,y_train)\n",
    "rf_predict=rf.predict(x_test)\n",
    "print('Train Score :',rf.score(x_train,y_train))\n",
    "print('Test Score :',rf.score(x_test,y_test))\n",
    "\n",
    "print('R squared :',(r2_score(y_test,rf_predict)))\n",
    "print('RMSLE :',np.sqrt(mean_squared_error(y_test,rf_predict)))"
   ]
  },
  {
   "cell_type": "code",
   "execution_count": 68,
   "id": "4cf82a54",
   "metadata": {},
   "outputs": [
    {
     "name": "stdout",
     "output_type": "stream",
     "text": [
      "Train Score : 0.8520334926554947\n",
      "Test Score : 0.8170358190827554\n",
      "R squared : 0.8170358190827554\n",
      "RMSLE : 166.65259465667953\n"
     ]
    }
   ],
   "source": [
    "#Using XGboost\n",
    "xgb=XGBRegressor()\n",
    "xgb.fit(x_train,y_train)\n",
    "xgb_predict=xgb.predict(x_test)\n",
    "print('Train Score :',xgb.score(x_train,y_train))\n",
    "print('Test Score :',xgb.score(x_test,y_test))\n",
    "\n",
    "print('R squared :',(r2_score(y_test,xgb_predict)))\n",
    "print('RMSLE :',np.sqrt(mean_squared_error(y_test,xgb_predict)))"
   ]
  },
  {
   "cell_type": "code",
   "execution_count": 69,
   "id": "7150da8c",
   "metadata": {},
   "outputs": [
    {
     "name": "stdout",
     "output_type": "stream",
     "text": [
      "Train Score : 0.6372322187482226\n",
      "Test Score : 0.627503370020154\n",
      "R squared : 0.627503370020154\n",
      "RMSLE : 237.78815422858762\n"
     ]
    }
   ],
   "source": [
    "#Using Gradient boost\n",
    "gb=GradientBoostingRegressor()\n",
    "gb.fit(x_train,y_train)\n",
    "gb_predict=gb.predict(x_test)\n",
    "print('Train Score :',gb.score(x_train,y_train))\n",
    "print('Test Score :',gb.score(x_test,y_test))\n",
    "\n",
    "print('R squared :',(r2_score(y_test,gb_predict)))\n",
    "print('RMSLE :',np.sqrt(mean_squared_error(y_test,gb_predict)))"
   ]
  },
  {
   "cell_type": "code",
   "execution_count": 86,
   "id": "0668b7a2",
   "metadata": {},
   "outputs": [],
   "source": [
    "#Predicting Testing dataset\n",
    "rf.fit(x,y)\n",
    "m1=rf.predict(test)\n"
   ]
  },
  {
   "cell_type": "code",
   "execution_count": 75,
   "id": "d8d79411",
   "metadata": {},
   "outputs": [],
   "source": [
    "final=(m1+m2)/2"
   ]
  },
  {
   "cell_type": "code",
   "execution_count": 84,
   "id": "54a94d2f",
   "metadata": {},
   "outputs": [],
   "source": [
    "frame= list(zip(test_id,m1))\n",
    "submission=pd.DataFrame(frame,columns=['id','num_orders'])"
   ]
  },
  {
   "cell_type": "code",
   "execution_count": 85,
   "id": "131dcd74",
   "metadata": {},
   "outputs": [],
   "source": [
    "#Downloading dataframe to CSV\n",
    "submission.to_csv('my_submission.csv',index=False)\n"
   ]
  },
  {
   "cell_type": "code",
   "execution_count": null,
   "id": "844e2269",
   "metadata": {},
   "outputs": [],
   "source": []
  }
 ],
 "metadata": {
  "kernelspec": {
   "display_name": "Python 3",
   "language": "python",
   "name": "python3"
  },
  "language_info": {
   "codemirror_mode": {
    "name": "ipython",
    "version": 3
   },
   "file_extension": ".py",
   "mimetype": "text/x-python",
   "name": "python",
   "nbconvert_exporter": "python",
   "pygments_lexer": "ipython3",
   "version": "3.8.8"
  }
 },
 "nbformat": 4,
 "nbformat_minor": 5
}
